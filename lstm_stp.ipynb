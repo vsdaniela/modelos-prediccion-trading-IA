{
  "nbformat": 4,
  "nbformat_minor": 0,
  "metadata": {
    "colab": {
      "provenance": []
    },
    "kernelspec": {
      "name": "python3",
      "display_name": "Python 3"
    },
    "language_info": {
      "name": "python"
    }
  },
  "cells": [
    {
      "cell_type": "markdown",
      "source": [
        "# LIBRERIAS"
      ],
      "metadata": {
        "id": "4Qc2uVfqNJmt"
      }
    },
    {
      "cell_type": "code",
      "execution_count": null,
      "metadata": {
        "id": "LHfPmKlj1aIJ",
        "colab": {
          "base_uri": "https://localhost:8080/"
        },
        "outputId": "c3e2e560-8f2c-41b2-e31f-9e046eef1edf"
      },
      "outputs": [
        {
          "output_type": "stream",
          "name": "stdout",
          "text": [
            "Looking in indexes: https://pypi.org/simple, https://us-python.pkg.dev/colab-wheels/public/simple/\n",
            "Collecting yfinance\n",
            "  Downloading yfinance-0.1.87-py2.py3-none-any.whl (29 kB)\n",
            "Requirement already satisfied: appdirs>=1.4.4 in /usr/local/lib/python3.8/dist-packages (from yfinance) (1.4.4)\n",
            "Collecting requests>=2.26\n",
            "  Downloading requests-2.28.1-py3-none-any.whl (62 kB)\n",
            "\u001b[K     |████████████████████████████████| 62 kB 529 kB/s \n",
            "\u001b[?25hRequirement already satisfied: multitasking>=0.0.7 in /usr/local/lib/python3.8/dist-packages (from yfinance) (0.0.11)\n",
            "Requirement already satisfied: lxml>=4.5.1 in /usr/local/lib/python3.8/dist-packages (from yfinance) (4.9.1)\n",
            "Requirement already satisfied: pandas>=0.24.0 in /usr/local/lib/python3.8/dist-packages (from yfinance) (1.3.5)\n",
            "Requirement already satisfied: numpy>=1.15 in /usr/local/lib/python3.8/dist-packages (from yfinance) (1.21.6)\n",
            "Requirement already satisfied: pytz>=2017.3 in /usr/local/lib/python3.8/dist-packages (from pandas>=0.24.0->yfinance) (2022.6)\n",
            "Requirement already satisfied: python-dateutil>=2.7.3 in /usr/local/lib/python3.8/dist-packages (from pandas>=0.24.0->yfinance) (2.8.2)\n",
            "Requirement already satisfied: six>=1.5 in /usr/local/lib/python3.8/dist-packages (from python-dateutil>=2.7.3->pandas>=0.24.0->yfinance) (1.15.0)\n",
            "Requirement already satisfied: charset-normalizer<3,>=2 in /usr/local/lib/python3.8/dist-packages (from requests>=2.26->yfinance) (2.1.1)\n",
            "Requirement already satisfied: idna<4,>=2.5 in /usr/local/lib/python3.8/dist-packages (from requests>=2.26->yfinance) (2.10)\n",
            "Requirement already satisfied: certifi>=2017.4.17 in /usr/local/lib/python3.8/dist-packages (from requests>=2.26->yfinance) (2022.9.24)\n",
            "Requirement already satisfied: urllib3<1.27,>=1.21.1 in /usr/local/lib/python3.8/dist-packages (from requests>=2.26->yfinance) (1.24.3)\n",
            "Installing collected packages: requests, yfinance\n",
            "  Attempting uninstall: requests\n",
            "    Found existing installation: requests 2.23.0\n",
            "    Uninstalling requests-2.23.0:\n",
            "      Successfully uninstalled requests-2.23.0\n",
            "Successfully installed requests-2.28.1 yfinance-0.1.87\n",
            "Looking in indexes: https://pypi.org/simple, https://us-python.pkg.dev/colab-wheels/public/simple/\n",
            "Requirement already satisfied: tensorflow in /usr/local/lib/python3.8/dist-packages (2.9.2)\n",
            "Requirement already satisfied: six>=1.12.0 in /usr/local/lib/python3.8/dist-packages (from tensorflow) (1.15.0)\n",
            "Requirement already satisfied: absl-py>=1.0.0 in /usr/local/lib/python3.8/dist-packages (from tensorflow) (1.3.0)\n",
            "Requirement already satisfied: gast<=0.4.0,>=0.2.1 in /usr/local/lib/python3.8/dist-packages (from tensorflow) (0.4.0)\n",
            "Requirement already satisfied: google-pasta>=0.1.1 in /usr/local/lib/python3.8/dist-packages (from tensorflow) (0.2.0)\n",
            "Requirement already satisfied: packaging in /usr/local/lib/python3.8/dist-packages (from tensorflow) (21.3)\n",
            "Requirement already satisfied: grpcio<2.0,>=1.24.3 in /usr/local/lib/python3.8/dist-packages (from tensorflow) (1.51.1)\n",
            "Requirement already satisfied: setuptools in /usr/local/lib/python3.8/dist-packages (from tensorflow) (57.4.0)\n",
            "Requirement already satisfied: libclang>=13.0.0 in /usr/local/lib/python3.8/dist-packages (from tensorflow) (14.0.6)\n",
            "Requirement already satisfied: keras<2.10.0,>=2.9.0rc0 in /usr/local/lib/python3.8/dist-packages (from tensorflow) (2.9.0)\n",
            "Requirement already satisfied: tensorflow-io-gcs-filesystem>=0.23.1 in /usr/local/lib/python3.8/dist-packages (from tensorflow) (0.28.0)\n",
            "Requirement already satisfied: flatbuffers<2,>=1.12 in /usr/local/lib/python3.8/dist-packages (from tensorflow) (1.12)\n",
            "Requirement already satisfied: typing-extensions>=3.6.6 in /usr/local/lib/python3.8/dist-packages (from tensorflow) (4.4.0)\n",
            "Requirement already satisfied: astunparse>=1.6.0 in /usr/local/lib/python3.8/dist-packages (from tensorflow) (1.6.3)\n",
            "Requirement already satisfied: tensorflow-estimator<2.10.0,>=2.9.0rc0 in /usr/local/lib/python3.8/dist-packages (from tensorflow) (2.9.0)\n",
            "Requirement already satisfied: tensorboard<2.10,>=2.9 in /usr/local/lib/python3.8/dist-packages (from tensorflow) (2.9.1)\n",
            "Requirement already satisfied: keras-preprocessing>=1.1.1 in /usr/local/lib/python3.8/dist-packages (from tensorflow) (1.1.2)\n",
            "Requirement already satisfied: protobuf<3.20,>=3.9.2 in /usr/local/lib/python3.8/dist-packages (from tensorflow) (3.19.6)\n",
            "Requirement already satisfied: termcolor>=1.1.0 in /usr/local/lib/python3.8/dist-packages (from tensorflow) (2.1.1)\n",
            "Requirement already satisfied: numpy>=1.20 in /usr/local/lib/python3.8/dist-packages (from tensorflow) (1.21.6)\n",
            "Requirement already satisfied: opt-einsum>=2.3.2 in /usr/local/lib/python3.8/dist-packages (from tensorflow) (3.3.0)\n",
            "Requirement already satisfied: wrapt>=1.11.0 in /usr/local/lib/python3.8/dist-packages (from tensorflow) (1.14.1)\n",
            "Requirement already satisfied: h5py>=2.9.0 in /usr/local/lib/python3.8/dist-packages (from tensorflow) (3.1.0)\n",
            "Requirement already satisfied: wheel<1.0,>=0.23.0 in /usr/local/lib/python3.8/dist-packages (from astunparse>=1.6.0->tensorflow) (0.38.4)\n",
            "Requirement already satisfied: tensorboard-plugin-wit>=1.6.0 in /usr/local/lib/python3.8/dist-packages (from tensorboard<2.10,>=2.9->tensorflow) (1.8.1)\n",
            "Requirement already satisfied: werkzeug>=1.0.1 in /usr/local/lib/python3.8/dist-packages (from tensorboard<2.10,>=2.9->tensorflow) (1.0.1)\n",
            "Requirement already satisfied: google-auth-oauthlib<0.5,>=0.4.1 in /usr/local/lib/python3.8/dist-packages (from tensorboard<2.10,>=2.9->tensorflow) (0.4.6)\n",
            "Requirement already satisfied: google-auth<3,>=1.6.3 in /usr/local/lib/python3.8/dist-packages (from tensorboard<2.10,>=2.9->tensorflow) (2.15.0)\n",
            "Requirement already satisfied: requests<3,>=2.21.0 in /usr/local/lib/python3.8/dist-packages (from tensorboard<2.10,>=2.9->tensorflow) (2.28.1)\n",
            "Requirement already satisfied: tensorboard-data-server<0.7.0,>=0.6.0 in /usr/local/lib/python3.8/dist-packages (from tensorboard<2.10,>=2.9->tensorflow) (0.6.1)\n",
            "Requirement already satisfied: markdown>=2.6.8 in /usr/local/lib/python3.8/dist-packages (from tensorboard<2.10,>=2.9->tensorflow) (3.4.1)\n",
            "Requirement already satisfied: pyasn1-modules>=0.2.1 in /usr/local/lib/python3.8/dist-packages (from google-auth<3,>=1.6.3->tensorboard<2.10,>=2.9->tensorflow) (0.2.8)\n",
            "Requirement already satisfied: cachetools<6.0,>=2.0.0 in /usr/local/lib/python3.8/dist-packages (from google-auth<3,>=1.6.3->tensorboard<2.10,>=2.9->tensorflow) (5.2.0)\n",
            "Requirement already satisfied: rsa<5,>=3.1.4 in /usr/local/lib/python3.8/dist-packages (from google-auth<3,>=1.6.3->tensorboard<2.10,>=2.9->tensorflow) (4.9)\n",
            "Requirement already satisfied: requests-oauthlib>=0.7.0 in /usr/local/lib/python3.8/dist-packages (from google-auth-oauthlib<0.5,>=0.4.1->tensorboard<2.10,>=2.9->tensorflow) (1.3.1)\n",
            "Requirement already satisfied: importlib-metadata>=4.4 in /usr/local/lib/python3.8/dist-packages (from markdown>=2.6.8->tensorboard<2.10,>=2.9->tensorflow) (4.13.0)\n",
            "Requirement already satisfied: zipp>=0.5 in /usr/local/lib/python3.8/dist-packages (from importlib-metadata>=4.4->markdown>=2.6.8->tensorboard<2.10,>=2.9->tensorflow) (3.11.0)\n",
            "Requirement already satisfied: pyasn1<0.5.0,>=0.4.6 in /usr/local/lib/python3.8/dist-packages (from pyasn1-modules>=0.2.1->google-auth<3,>=1.6.3->tensorboard<2.10,>=2.9->tensorflow) (0.4.8)\n",
            "Requirement already satisfied: charset-normalizer<3,>=2 in /usr/local/lib/python3.8/dist-packages (from requests<3,>=2.21.0->tensorboard<2.10,>=2.9->tensorflow) (2.1.1)\n",
            "Requirement already satisfied: idna<4,>=2.5 in /usr/local/lib/python3.8/dist-packages (from requests<3,>=2.21.0->tensorboard<2.10,>=2.9->tensorflow) (2.10)\n",
            "Requirement already satisfied: certifi>=2017.4.17 in /usr/local/lib/python3.8/dist-packages (from requests<3,>=2.21.0->tensorboard<2.10,>=2.9->tensorflow) (2022.9.24)\n",
            "Requirement already satisfied: urllib3<1.27,>=1.21.1 in /usr/local/lib/python3.8/dist-packages (from requests<3,>=2.21.0->tensorboard<2.10,>=2.9->tensorflow) (1.24.3)\n",
            "Requirement already satisfied: oauthlib>=3.0.0 in /usr/local/lib/python3.8/dist-packages (from requests-oauthlib>=0.7.0->google-auth-oauthlib<0.5,>=0.4.1->tensorboard<2.10,>=2.9->tensorflow) (3.2.2)\n",
            "Requirement already satisfied: pyparsing!=3.0.5,>=2.0.2 in /usr/local/lib/python3.8/dist-packages (from packaging->tensorflow) (3.0.9)\n",
            "Looking in indexes: https://pypi.org/simple, https://us-python.pkg.dev/colab-wheels/public/simple/\n",
            "Collecting pandas_ta\n",
            "  Downloading pandas_ta-0.3.14b.tar.gz (115 kB)\n",
            "\u001b[K     |████████████████████████████████| 115 kB 3.6 MB/s \n",
            "\u001b[?25hRequirement already satisfied: pandas in /usr/local/lib/python3.8/dist-packages (from pandas_ta) (1.3.5)\n",
            "Requirement already satisfied: pytz>=2017.3 in /usr/local/lib/python3.8/dist-packages (from pandas->pandas_ta) (2022.6)\n",
            "Requirement already satisfied: python-dateutil>=2.7.3 in /usr/local/lib/python3.8/dist-packages (from pandas->pandas_ta) (2.8.2)\n",
            "Requirement already satisfied: numpy>=1.17.3 in /usr/local/lib/python3.8/dist-packages (from pandas->pandas_ta) (1.21.6)\n",
            "Requirement already satisfied: six>=1.5 in /usr/local/lib/python3.8/dist-packages (from python-dateutil>=2.7.3->pandas->pandas_ta) (1.15.0)\n",
            "Building wheels for collected packages: pandas-ta\n",
            "  Building wheel for pandas-ta (setup.py) ... \u001b[?25l\u001b[?25hdone\n",
            "  Created wheel for pandas-ta: filename=pandas_ta-0.3.14b0-py3-none-any.whl size=218923 sha256=af1a883caa667c33bf77ad5b0af4c9a32a38739d2246f074ee51a1f1686c1c95\n",
            "  Stored in directory: /root/.cache/pip/wheels/54/4a/75/06b8e63fce6f6d2c1baae5c208edb18eca128407b0c96e1153\n",
            "Successfully built pandas-ta\n",
            "Installing collected packages: pandas-ta\n",
            "Successfully installed pandas-ta-0.3.14b0\n",
            "Looking in indexes: https://pypi.org/simple, https://us-python.pkg.dev/colab-wheels/public/simple/\n",
            "Requirement already satisfied: hyperopt in /usr/local/lib/python3.8/dist-packages (0.1.2)\n",
            "Requirement already satisfied: networkx in /usr/local/lib/python3.8/dist-packages (from hyperopt) (2.8.8)\n",
            "Requirement already satisfied: six in /usr/local/lib/python3.8/dist-packages (from hyperopt) (1.15.0)\n",
            "Requirement already satisfied: future in /usr/local/lib/python3.8/dist-packages (from hyperopt) (0.16.0)\n",
            "Requirement already satisfied: pymongo in /usr/local/lib/python3.8/dist-packages (from hyperopt) (4.3.3)\n",
            "Requirement already satisfied: scipy in /usr/local/lib/python3.8/dist-packages (from hyperopt) (1.7.3)\n",
            "Requirement already satisfied: tqdm in /usr/local/lib/python3.8/dist-packages (from hyperopt) (4.64.1)\n",
            "Requirement already satisfied: numpy in /usr/local/lib/python3.8/dist-packages (from hyperopt) (1.21.6)\n",
            "Requirement already satisfied: dnspython<3.0.0,>=1.16.0 in /usr/local/lib/python3.8/dist-packages (from pymongo->hyperopt) (2.2.1)\n"
          ]
        }
      ],
      "source": [
        "#instalaciones\n",
        "!pip install yfinance\n",
        "!pip install tensorflow\n",
        "!pip install pandas_ta\n",
        "!pip install hyperopt"
      ]
    },
    {
      "cell_type": "code",
      "source": [
        "#librerias metricas\n",
        "from sklearn.metrics import confusion_matrix\n",
        "from sklearn.metrics import accuracy_score\n",
        "from sklearn.metrics import precision_score\n",
        "from sklearn.metrics import f1_score\n",
        "from sklearn.metrics import r2_score\n",
        "from sklearn import metrics\n",
        "from sklearn.metrics import classification_report, confusion_matrix"
      ],
      "metadata": {
        "id": "IqWoB-h3M9N-"
      },
      "execution_count": null,
      "outputs": []
    },
    {
      "cell_type": "code",
      "source": [
        "# busquda de parametros\n",
        "from sklearn.model_selection import KFold, StratifiedKFold\n",
        "from sklearn.model_selection import cross_val_score\n",
        "from sklearn.model_selection import GridSearchCV\n",
        "from sklearn.model_selection import RandomizedSearchCV\n",
        "from hyperopt import hp, fmin, tpe, rand, STATUS_OK, Trials"
      ],
      "metadata": {
        "id": "dCa2YdQhNBbU"
      },
      "execution_count": null,
      "outputs": []
    },
    {
      "cell_type": "code",
      "source": [
        "import pandas as pd\n",
        "#import MetaTrader5 as mt5\n",
        "import yfinance as yf\n",
        "import tensorflow as tf\n",
        "from sklearn.preprocessing import StandardScaler\n",
        "from sklearn.decomposition import PCA\n",
        "from sklearn.svm import SVC\n",
        "import numpy as np\n",
        "import matplotlib.pyplot as plt\n",
        "\n",
        "plt.style.use('seaborn')\n",
        "import tensorflow as t\n",
        "from sklearn.model_selection import TimeSeriesSplit\n",
        "import matplotlib.pyplot as pt\n",
        "from sklearn.preprocessing import MinMaxScaler\n",
        "\n",
        "import math\n",
        "from keras.models import Sequential\n",
        "from keras.layers import LSTM, Dense, Dropout\n",
        "from keras.layers.core import Dense, Dropout, Activation\n",
        "from tensorflow.keras.layers import LSTM\n",
        "import numpy as np\n",
        "import pandas as pd\n",
        "import pandas_ta as ta\n",
        "import sklearn.preprocessing as prep"
      ],
      "metadata": {
        "id": "zpof44k2NDVn"
      },
      "execution_count": null,
      "outputs": []
    },
    {
      "cell_type": "code",
      "source": [
        "from google.colab import drive\n",
        "drive.mount('/content/drive')"
      ],
      "metadata": {
        "colab": {
          "base_uri": "https://localhost:8080/"
        },
        "id": "lHZYR5htNGYc",
        "outputId": "005c9475-cde5-49ff-8dd7-84547c348e47"
      },
      "execution_count": null,
      "outputs": [
        {
          "output_type": "stream",
          "name": "stdout",
          "text": [
            "Mounted at /content/drive\n"
          ]
        }
      ]
    },
    {
      "cell_type": "code",
      "source": [
        "df_PEN= pd.read_csv('/content/drive/MyDrive/datasets stmkt/pen_usd-08-19.csv',sep=';')"
      ],
      "metadata": {
        "id": "uKag9XtbcTwk"
      },
      "execution_count": null,
      "outputs": []
    },
    {
      "cell_type": "markdown",
      "source": [
        "# PROCESAMIENTO DE DATOS"
      ],
      "metadata": {
        "id": "Ifu7kRKQPUfM"
      }
    },
    {
      "cell_type": "code",
      "source": [
        "df_PEN"
      ],
      "metadata": {
        "colab": {
          "base_uri": "https://localhost:8080/",
          "height": 424
        },
        "id": "6RgMkUhbPQ5b",
        "outputId": "7a2d7f21-909c-4313-ca46-c9ef3a2b3c3f"
      },
      "execution_count": null,
      "outputs": [
        {
          "output_type": "execute_result",
          "data": {
            "text/plain": [
              "            Date      Open      High       Low     Close  Adj Close\n",
              "0      1/01/2008  2.964000  2.964000  2.964000  2.964000   2.964000\n",
              "1      2/01/2008  2.981000  2.981000  2.978000  2.936300   2.936300\n",
              "2      3/01/2008  2.937800  2.937800  2.930700  2.930700   2.930700\n",
              "3      4/01/2008  2.931200  2.968000  2.931200  2.906500   2.906500\n",
              "4      7/01/2008  2.929400  2.929400  2.929400  2.929200   2.929200\n",
              "...          ...       ...       ...       ...       ...        ...\n",
              "3125  24/12/2019  3.240419  3.317500  3.240419  3.317500   3.317500\n",
              "3126  25/12/2019  3.243933  3.243933  3.243933  3.313000   3.313000\n",
              "3127  26/12/2019  3.242661  3.318000  3.242661  3.243933   3.243933\n",
              "3128  27/12/2019  3.239345  3.325000  3.239345  3.319000   3.319000\n",
              "3129  30/12/2019  3.235623  3.314000  3.235623  3.314000   3.314000\n",
              "\n",
              "[3130 rows x 6 columns]"
            ],
            "text/html": [
              "\n",
              "  <div id=\"df-099c522b-bb14-409d-a387-8f449fa0a401\">\n",
              "    <div class=\"colab-df-container\">\n",
              "      <div>\n",
              "<style scoped>\n",
              "    .dataframe tbody tr th:only-of-type {\n",
              "        vertical-align: middle;\n",
              "    }\n",
              "\n",
              "    .dataframe tbody tr th {\n",
              "        vertical-align: top;\n",
              "    }\n",
              "\n",
              "    .dataframe thead th {\n",
              "        text-align: right;\n",
              "    }\n",
              "</style>\n",
              "<table border=\"1\" class=\"dataframe\">\n",
              "  <thead>\n",
              "    <tr style=\"text-align: right;\">\n",
              "      <th></th>\n",
              "      <th>Date</th>\n",
              "      <th>Open</th>\n",
              "      <th>High</th>\n",
              "      <th>Low</th>\n",
              "      <th>Close</th>\n",
              "      <th>Adj Close</th>\n",
              "    </tr>\n",
              "  </thead>\n",
              "  <tbody>\n",
              "    <tr>\n",
              "      <th>0</th>\n",
              "      <td>1/01/2008</td>\n",
              "      <td>2.964000</td>\n",
              "      <td>2.964000</td>\n",
              "      <td>2.964000</td>\n",
              "      <td>2.964000</td>\n",
              "      <td>2.964000</td>\n",
              "    </tr>\n",
              "    <tr>\n",
              "      <th>1</th>\n",
              "      <td>2/01/2008</td>\n",
              "      <td>2.981000</td>\n",
              "      <td>2.981000</td>\n",
              "      <td>2.978000</td>\n",
              "      <td>2.936300</td>\n",
              "      <td>2.936300</td>\n",
              "    </tr>\n",
              "    <tr>\n",
              "      <th>2</th>\n",
              "      <td>3/01/2008</td>\n",
              "      <td>2.937800</td>\n",
              "      <td>2.937800</td>\n",
              "      <td>2.930700</td>\n",
              "      <td>2.930700</td>\n",
              "      <td>2.930700</td>\n",
              "    </tr>\n",
              "    <tr>\n",
              "      <th>3</th>\n",
              "      <td>4/01/2008</td>\n",
              "      <td>2.931200</td>\n",
              "      <td>2.968000</td>\n",
              "      <td>2.931200</td>\n",
              "      <td>2.906500</td>\n",
              "      <td>2.906500</td>\n",
              "    </tr>\n",
              "    <tr>\n",
              "      <th>4</th>\n",
              "      <td>7/01/2008</td>\n",
              "      <td>2.929400</td>\n",
              "      <td>2.929400</td>\n",
              "      <td>2.929400</td>\n",
              "      <td>2.929200</td>\n",
              "      <td>2.929200</td>\n",
              "    </tr>\n",
              "    <tr>\n",
              "      <th>...</th>\n",
              "      <td>...</td>\n",
              "      <td>...</td>\n",
              "      <td>...</td>\n",
              "      <td>...</td>\n",
              "      <td>...</td>\n",
              "      <td>...</td>\n",
              "    </tr>\n",
              "    <tr>\n",
              "      <th>3125</th>\n",
              "      <td>24/12/2019</td>\n",
              "      <td>3.240419</td>\n",
              "      <td>3.317500</td>\n",
              "      <td>3.240419</td>\n",
              "      <td>3.317500</td>\n",
              "      <td>3.317500</td>\n",
              "    </tr>\n",
              "    <tr>\n",
              "      <th>3126</th>\n",
              "      <td>25/12/2019</td>\n",
              "      <td>3.243933</td>\n",
              "      <td>3.243933</td>\n",
              "      <td>3.243933</td>\n",
              "      <td>3.313000</td>\n",
              "      <td>3.313000</td>\n",
              "    </tr>\n",
              "    <tr>\n",
              "      <th>3127</th>\n",
              "      <td>26/12/2019</td>\n",
              "      <td>3.242661</td>\n",
              "      <td>3.318000</td>\n",
              "      <td>3.242661</td>\n",
              "      <td>3.243933</td>\n",
              "      <td>3.243933</td>\n",
              "    </tr>\n",
              "    <tr>\n",
              "      <th>3128</th>\n",
              "      <td>27/12/2019</td>\n",
              "      <td>3.239345</td>\n",
              "      <td>3.325000</td>\n",
              "      <td>3.239345</td>\n",
              "      <td>3.319000</td>\n",
              "      <td>3.319000</td>\n",
              "    </tr>\n",
              "    <tr>\n",
              "      <th>3129</th>\n",
              "      <td>30/12/2019</td>\n",
              "      <td>3.235623</td>\n",
              "      <td>3.314000</td>\n",
              "      <td>3.235623</td>\n",
              "      <td>3.314000</td>\n",
              "      <td>3.314000</td>\n",
              "    </tr>\n",
              "  </tbody>\n",
              "</table>\n",
              "<p>3130 rows × 6 columns</p>\n",
              "</div>\n",
              "      <button class=\"colab-df-convert\" onclick=\"convertToInteractive('df-099c522b-bb14-409d-a387-8f449fa0a401')\"\n",
              "              title=\"Convert this dataframe to an interactive table.\"\n",
              "              style=\"display:none;\">\n",
              "        \n",
              "  <svg xmlns=\"http://www.w3.org/2000/svg\" height=\"24px\"viewBox=\"0 0 24 24\"\n",
              "       width=\"24px\">\n",
              "    <path d=\"M0 0h24v24H0V0z\" fill=\"none\"/>\n",
              "    <path d=\"M18.56 5.44l.94 2.06.94-2.06 2.06-.94-2.06-.94-.94-2.06-.94 2.06-2.06.94zm-11 1L8.5 8.5l.94-2.06 2.06-.94-2.06-.94L8.5 2.5l-.94 2.06-2.06.94zm10 10l.94 2.06.94-2.06 2.06-.94-2.06-.94-.94-2.06-.94 2.06-2.06.94z\"/><path d=\"M17.41 7.96l-1.37-1.37c-.4-.4-.92-.59-1.43-.59-.52 0-1.04.2-1.43.59L10.3 9.45l-7.72 7.72c-.78.78-.78 2.05 0 2.83L4 21.41c.39.39.9.59 1.41.59.51 0 1.02-.2 1.41-.59l7.78-7.78 2.81-2.81c.8-.78.8-2.07 0-2.86zM5.41 20L4 18.59l7.72-7.72 1.47 1.35L5.41 20z\"/>\n",
              "  </svg>\n",
              "      </button>\n",
              "      \n",
              "  <style>\n",
              "    .colab-df-container {\n",
              "      display:flex;\n",
              "      flex-wrap:wrap;\n",
              "      gap: 12px;\n",
              "    }\n",
              "\n",
              "    .colab-df-convert {\n",
              "      background-color: #E8F0FE;\n",
              "      border: none;\n",
              "      border-radius: 50%;\n",
              "      cursor: pointer;\n",
              "      display: none;\n",
              "      fill: #1967D2;\n",
              "      height: 32px;\n",
              "      padding: 0 0 0 0;\n",
              "      width: 32px;\n",
              "    }\n",
              "\n",
              "    .colab-df-convert:hover {\n",
              "      background-color: #E2EBFA;\n",
              "      box-shadow: 0px 1px 2px rgba(60, 64, 67, 0.3), 0px 1px 3px 1px rgba(60, 64, 67, 0.15);\n",
              "      fill: #174EA6;\n",
              "    }\n",
              "\n",
              "    [theme=dark] .colab-df-convert {\n",
              "      background-color: #3B4455;\n",
              "      fill: #D2E3FC;\n",
              "    }\n",
              "\n",
              "    [theme=dark] .colab-df-convert:hover {\n",
              "      background-color: #434B5C;\n",
              "      box-shadow: 0px 1px 3px 1px rgba(0, 0, 0, 0.15);\n",
              "      filter: drop-shadow(0px 1px 2px rgba(0, 0, 0, 0.3));\n",
              "      fill: #FFFFFF;\n",
              "    }\n",
              "  </style>\n",
              "\n",
              "      <script>\n",
              "        const buttonEl =\n",
              "          document.querySelector('#df-099c522b-bb14-409d-a387-8f449fa0a401 button.colab-df-convert');\n",
              "        buttonEl.style.display =\n",
              "          google.colab.kernel.accessAllowed ? 'block' : 'none';\n",
              "\n",
              "        async function convertToInteractive(key) {\n",
              "          const element = document.querySelector('#df-099c522b-bb14-409d-a387-8f449fa0a401');\n",
              "          const dataTable =\n",
              "            await google.colab.kernel.invokeFunction('convertToInteractive',\n",
              "                                                     [key], {});\n",
              "          if (!dataTable) return;\n",
              "\n",
              "          const docLinkHtml = 'Like what you see? Visit the ' +\n",
              "            '<a target=\"_blank\" href=https://colab.research.google.com/notebooks/data_table.ipynb>data table notebook</a>'\n",
              "            + ' to learn more about interactive tables.';\n",
              "          element.innerHTML = '';\n",
              "          dataTable['output_type'] = 'display_data';\n",
              "          await google.colab.output.renderOutput(dataTable, element);\n",
              "          const docLink = document.createElement('div');\n",
              "          docLink.innerHTML = docLinkHtml;\n",
              "          element.appendChild(docLink);\n",
              "        }\n",
              "      </script>\n",
              "    </div>\n",
              "  </div>\n",
              "  "
            ]
          },
          "metadata": {},
          "execution_count": 7
        }
      ]
    },
    {
      "cell_type": "code",
      "source": [
        "df_PEN.info()"
      ],
      "metadata": {
        "colab": {
          "base_uri": "https://localhost:8080/"
        },
        "id": "a4biAnReQKMA",
        "outputId": "0c8cdffd-f71a-44ab-a0d6-0740eef67640"
      },
      "execution_count": null,
      "outputs": [
        {
          "output_type": "stream",
          "name": "stdout",
          "text": [
            "<class 'pandas.core.frame.DataFrame'>\n",
            "RangeIndex: 3130 entries, 0 to 3129\n",
            "Data columns (total 6 columns):\n",
            " #   Column     Non-Null Count  Dtype  \n",
            "---  ------     --------------  -----  \n",
            " 0   Date       3130 non-null   object \n",
            " 1   Open       3128 non-null   float64\n",
            " 2   High       3128 non-null   float64\n",
            " 3   Low        3128 non-null   float64\n",
            " 4   Close      3128 non-null   float64\n",
            " 5   Adj Close  3128 non-null   float64\n",
            "dtypes: float64(5), object(1)\n",
            "memory usage: 146.8+ KB\n"
          ]
        }
      ]
    },
    {
      "cell_type": "code",
      "source": [
        "df_PEN_=df_PEN.set_index('Date')\n"
      ],
      "metadata": {
        "id": "fOsEcmygQS1E"
      },
      "execution_count": null,
      "outputs": []
    },
    {
      "cell_type": "code",
      "source": [
        "df_PEN_=df_PEN.dropna()"
      ],
      "metadata": {
        "id": "sOxmXrPmZy_7"
      },
      "execution_count": null,
      "outputs": []
    },
    {
      "cell_type": "code",
      "source": [
        "df_PEN.info()"
      ],
      "metadata": {
        "colab": {
          "base_uri": "https://localhost:8080/"
        },
        "id": "iV87RNe1Z7Mu",
        "outputId": "4f75f0d1-c3d1-4140-962c-67daa8b450c0"
      },
      "execution_count": null,
      "outputs": [
        {
          "output_type": "stream",
          "name": "stdout",
          "text": [
            "<class 'pandas.core.frame.DataFrame'>\n",
            "RangeIndex: 3130 entries, 0 to 3129\n",
            "Data columns (total 6 columns):\n",
            " #   Column     Non-Null Count  Dtype  \n",
            "---  ------     --------------  -----  \n",
            " 0   Date       3130 non-null   object \n",
            " 1   Open       3128 non-null   float64\n",
            " 2   High       3128 non-null   float64\n",
            " 3   Low        3128 non-null   float64\n",
            " 4   Close      3128 non-null   float64\n",
            " 5   Adj Close  3128 non-null   float64\n",
            "dtypes: float64(5), object(1)\n",
            "memory usage: 146.8+ KB\n"
          ]
        }
      ]
    },
    {
      "cell_type": "code",
      "source": [
        "data=df_PEN_['Close']\n",
        "print(data)"
      ],
      "metadata": {
        "colab": {
          "base_uri": "https://localhost:8080/"
        },
        "id": "vBx8c0u7SHZP",
        "outputId": "b114bab5-bc37-4f97-c0e8-0786333c198b"
      },
      "execution_count": null,
      "outputs": [
        {
          "output_type": "stream",
          "name": "stdout",
          "text": [
            "0       2.964000\n",
            "1       2.936300\n",
            "2       2.930700\n",
            "3       2.906500\n",
            "4       2.929200\n",
            "          ...   \n",
            "3125    3.317500\n",
            "3126    3.313000\n",
            "3127    3.243933\n",
            "3128    3.319000\n",
            "3129    3.314000\n",
            "Name: Close, Length: 3128, dtype: float64\n"
          ]
        }
      ]
    },
    {
      "cell_type": "code",
      "source": [
        "\n",
        "dataset_pen=data.values\n",
        "print(dataset_pen)\n",
        "training_dataset_len=len(dataset_pen)* .8\n",
        "print(training_dataset_len)"
      ],
      "metadata": {
        "colab": {
          "base_uri": "https://localhost:8080/"
        },
        "id": "hbK1J9m7Q7_p",
        "outputId": "8a51d438-311f-4417-ab3d-de3e0018b8fa"
      },
      "execution_count": null,
      "outputs": [
        {
          "output_type": "stream",
          "name": "stdout",
          "text": [
            "[2.964    2.9363   2.9307   ... 3.243933 3.319    3.314   ]\n",
            "2502.4\n"
          ]
        }
      ]
    },
    {
      "cell_type": "code",
      "source": [
        "print(type(dataset_pen))\n",
        "dt_pen=np.array(dataset_pen)\n",
        "dt_pen = dt_pen[np.logical_not(np.isnan(dt_pen))] # Line 1\n",
        "print(dt_pen)\n",
        "#array.reshape(-1, 1)\n",
        "dt_pen=dt_pen.reshape(-1,1)\n",
        "print(dt_pen)"
      ],
      "metadata": {
        "colab": {
          "base_uri": "https://localhost:8080/"
        },
        "id": "D-XXFnmiWeWn",
        "outputId": "e9a57dca-13c4-4d14-abc8-6f505b9ba38e"
      },
      "execution_count": null,
      "outputs": [
        {
          "output_type": "stream",
          "name": "stdout",
          "text": [
            "<class 'numpy.ndarray'>\n",
            "[2.964    2.9363   2.9307   ... 3.243933 3.319    3.314   ]\n",
            "[[2.964   ]\n",
            " [2.9363  ]\n",
            " [2.9307  ]\n",
            " ...\n",
            " [3.243933]\n",
            " [3.319   ]\n",
            " [3.314   ]]\n"
          ]
        }
      ]
    },
    {
      "cell_type": "code",
      "source": [
        "len(dt_pen)"
      ],
      "metadata": {
        "colab": {
          "base_uri": "https://localhost:8080/"
        },
        "id": "6_-STJ8p_Il9",
        "outputId": "220ca56d-bd15-43dc-a800-08197e724c17"
      },
      "execution_count": null,
      "outputs": [
        {
          "output_type": "execute_result",
          "data": {
            "text/plain": [
              "3128"
            ]
          },
          "metadata": {},
          "execution_count": 15
        }
      ]
    },
    {
      "cell_type": "code",
      "source": [
        "from sklearn.preprocessing import MinMaxScaler\n",
        "scaler=MinMaxScaler(feature_range=(0,1))\n",
        "scaled_data=scaler.fit_transform(dt_pen)\n",
        "scaled_data"
      ],
      "metadata": {
        "colab": {
          "base_uri": "https://localhost:8080/"
        },
        "id": "gZ1Ws2fASOiw",
        "outputId": "3b697559-eca2-48c3-f98c-78822be08735"
      },
      "execution_count": null,
      "outputs": [
        {
          "output_type": "execute_result",
          "data": {
            "text/plain": [
              "array([[0.74756482],\n",
              "       [0.73806421],\n",
              "       [0.7361435 ],\n",
              "       ...,\n",
              "       [0.84357697],\n",
              "       [0.86932364],\n",
              "       [0.86760873]])"
            ]
          },
          "metadata": {},
          "execution_count": 16
        }
      ]
    },
    {
      "cell_type": "code",
      "source": [
        "train_data=scaled_data[0:int(training_dataset_len), :]\n",
        "print(len(train_data))\n",
        "\n",
        "x_train=[]\n",
        "y_train=[]\n",
        "window=10\n",
        "for i in range(window,len(train_data)):\n",
        "  x_train.append(train_data[i-window:i,0])\n",
        "  y_train.append(train_data[i,0])\n",
        "  if i<=window:\n",
        "    print(x_train)\n",
        "    print(y_train)\n",
        "    print()\n",
        "\n",
        "#funcion de autocorrelacion parcial ()"
      ],
      "metadata": {
        "colab": {
          "base_uri": "https://localhost:8080/"
        },
        "id": "kpOhIu7aXVQy",
        "outputId": "a70c231f-4d30-42a6-fb09-9f3293494e19"
      },
      "execution_count": null,
      "outputs": [
        {
          "output_type": "stream",
          "name": "stdout",
          "text": [
            "2502\n",
            "[array([0.74756482, 0.73806421, 0.7361435 , 0.72784333, 0.73562903,\n",
            "       0.73158184, 0.74636438, 0.71871999, 0.72708876, 0.71731376])]\n",
            "[0.7170736726574289]\n",
            "\n"
          ]
        }
      ]
    },
    {
      "cell_type": "code",
      "source": [
        "x_train,y_train=np.array(x_train),np.array(y_train)"
      ],
      "metadata": {
        "id": "osW7ipt0Z4sb"
      },
      "execution_count": null,
      "outputs": []
    },
    {
      "cell_type": "code",
      "source": [
        "x_train.shape"
      ],
      "metadata": {
        "colab": {
          "base_uri": "https://localhost:8080/"
        },
        "id": "IoqK-fERamVG",
        "outputId": "9b53ad15-9251-4505-a13c-17c9e4b2a84d"
      },
      "execution_count": null,
      "outputs": [
        {
          "output_type": "execute_result",
          "data": {
            "text/plain": [
              "(2492, 10)"
            ]
          },
          "metadata": {},
          "execution_count": 19
        }
      ]
    },
    {
      "cell_type": "code",
      "source": [
        "#reshapeee data for lstm\n",
        "n_features=1\n",
        "x_train=np.reshape(x_train, (x_train.shape[0],x_train.shape[1],n_features) )\n",
        "x_train.shape"
      ],
      "metadata": {
        "colab": {
          "base_uri": "https://localhost:8080/"
        },
        "id": "64la8qRWaEqV",
        "outputId": "4ca42179-3323-4b18-f5fc-0a97ff684965"
      },
      "execution_count": null,
      "outputs": [
        {
          "output_type": "execute_result",
          "data": {
            "text/plain": [
              "(2492, 10, 1)"
            ]
          },
          "metadata": {},
          "execution_count": 20
        }
      ]
    },
    {
      "cell_type": "code",
      "source": [],
      "metadata": {
        "id": "7WtI14w0bEBc"
      },
      "execution_count": null,
      "outputs": []
    },
    {
      "cell_type": "markdown",
      "source": [
        "# MODELO LSTM CONFIGURACION"
      ],
      "metadata": {
        "id": "x35AQB-CbKmh"
      }
    },
    {
      "cell_type": "code",
      "source": [
        "model_lstm=Sequential()\n",
        "model_lstm.add(LSTM(units=60,activation = 'relu', return_sequences=True, input_shape=(x_train.shape[1],1)))\n",
        "model_lstm.add(Dropout(0.25))\n",
        "model_lstm.add(LSTM(units=50))\n",
        "model_lstm.add(Dense(25))\n",
        "model_lstm.add(Dropout(0.5))\n",
        "model_lstm.add(Dense(units=1,activation='linear'))"
      ],
      "metadata": {
        "id": "sZlcZQY_bNWs"
      },
      "execution_count": null,
      "outputs": []
    },
    {
      "cell_type": "code",
      "source": [
        "model_lstm.summary()"
      ],
      "metadata": {
        "colab": {
          "base_uri": "https://localhost:8080/"
        },
        "id": "A1JUKiWhgYFi",
        "outputId": "53732833-6147-448c-d132-709e86e2c08a"
      },
      "execution_count": null,
      "outputs": [
        {
          "output_type": "stream",
          "name": "stdout",
          "text": [
            "Model: \"sequential_1\"\n",
            "_________________________________________________________________\n",
            " Layer (type)                Output Shape              Param #   \n",
            "=================================================================\n",
            " lstm_2 (LSTM)               (None, 10, 60)            14880     \n",
            "                                                                 \n",
            " dropout_2 (Dropout)         (None, 10, 60)            0         \n",
            "                                                                 \n",
            " lstm_3 (LSTM)               (None, 50)                22200     \n",
            "                                                                 \n",
            " dense_2 (Dense)             (None, 25)                1275      \n",
            "                                                                 \n",
            " dropout_3 (Dropout)         (None, 25)                0         \n",
            "                                                                 \n",
            " dense_3 (Dense)             (None, 1)                 26        \n",
            "                                                                 \n",
            "=================================================================\n",
            "Total params: 38,381\n",
            "Trainable params: 38,381\n",
            "Non-trainable params: 0\n",
            "_________________________________________________________________\n"
          ]
        }
      ]
    },
    {
      "cell_type": "code",
      "source": [
        "optimizer = tf.keras.optimizers.Adam(clipvalue=1e-50)"
      ],
      "metadata": {
        "id": "_jM9JmcLtCGi"
      },
      "execution_count": null,
      "outputs": []
    },
    {
      "cell_type": "code",
      "source": [
        "model_lstm.compile(optimizer='Adam', loss='mean_squared_error',metrics=['mse', 'mae', 'mape'])"
      ],
      "metadata": {
        "id": "g8BYQoVxcDZM"
      },
      "execution_count": null,
      "outputs": []
    },
    {
      "cell_type": "code",
      "source": [
        "history=model_lstm.fit(\n",
        "    x_train,y_train,batch_size=64,epochs=150)"
      ],
      "metadata": {
        "colab": {
          "base_uri": "https://localhost:8080/"
        },
        "id": "32R1BMxPcbXz",
        "outputId": "d85411df-4887-43cd-e2d9-53f0e1ef1508"
      },
      "execution_count": null,
      "outputs": [
        {
          "output_type": "stream",
          "name": "stdout",
          "text": [
            "Epoch 1/150\n",
            "39/39 [==============================] - 4s 19ms/step - loss: 0.1202 - mse: 0.1202 - mae: 0.2714 - mape: 307430.7500\n",
            "Epoch 2/150\n",
            "39/39 [==============================] - 1s 18ms/step - loss: 0.0282 - mse: 0.0282 - mae: 0.1342 - mape: 238974.4531\n",
            "Epoch 3/150\n",
            "39/39 [==============================] - 1s 18ms/step - loss: 0.0227 - mse: 0.0227 - mae: 0.1197 - mape: 263685.9688\n",
            "Epoch 4/150\n",
            "39/39 [==============================] - 1s 18ms/step - loss: 0.0222 - mse: 0.0222 - mae: 0.1187 - mape: 327082.9062\n",
            "Epoch 5/150\n",
            "39/39 [==============================] - 1s 18ms/step - loss: 0.0200 - mse: 0.0200 - mae: 0.1119 - mape: 290337.8125\n",
            "Epoch 6/150\n",
            "39/39 [==============================] - 1s 18ms/step - loss: 0.0201 - mse: 0.0201 - mae: 0.1120 - mape: 280394.6250\n",
            "Epoch 7/150\n",
            "39/39 [==============================] - 1s 19ms/step - loss: 0.0192 - mse: 0.0192 - mae: 0.1097 - mape: 323325.9062\n",
            "Epoch 8/150\n",
            "39/39 [==============================] - 1s 18ms/step - loss: 0.0190 - mse: 0.0190 - mae: 0.1107 - mape: 232058.3750\n",
            "Epoch 9/150\n",
            "39/39 [==============================] - 1s 18ms/step - loss: 0.0186 - mse: 0.0186 - mae: 0.1084 - mape: 219539.4219\n",
            "Epoch 10/150\n",
            "39/39 [==============================] - 1s 18ms/step - loss: 0.0184 - mse: 0.0184 - mae: 0.1080 - mape: 161041.9688\n",
            "Epoch 11/150\n",
            "39/39 [==============================] - 1s 19ms/step - loss: 0.0163 - mse: 0.0163 - mae: 0.1020 - mape: 251066.1406\n",
            "Epoch 12/150\n",
            "39/39 [==============================] - 1s 18ms/step - loss: 0.0163 - mse: 0.0163 - mae: 0.1013 - mape: 198568.4219\n",
            "Epoch 13/150\n",
            "39/39 [==============================] - 1s 19ms/step - loss: 0.0151 - mse: 0.0151 - mae: 0.0984 - mape: 245536.1875\n",
            "Epoch 14/150\n",
            "39/39 [==============================] - 1s 19ms/step - loss: 0.0150 - mse: 0.0150 - mae: 0.0967 - mape: 262606.1562\n",
            "Epoch 15/150\n",
            "39/39 [==============================] - 1s 18ms/step - loss: 0.0150 - mse: 0.0150 - mae: 0.0965 - mape: 287982.6562\n",
            "Epoch 16/150\n",
            "39/39 [==============================] - 1s 18ms/step - loss: 0.0145 - mse: 0.0145 - mae: 0.0948 - mape: 224741.5781\n",
            "Epoch 17/150\n",
            "39/39 [==============================] - 1s 19ms/step - loss: 0.0136 - mse: 0.0136 - mae: 0.0921 - mape: 270798.5000\n",
            "Epoch 18/150\n",
            "39/39 [==============================] - 1s 18ms/step - loss: 0.0133 - mse: 0.0133 - mae: 0.0911 - mape: 294515.9688\n",
            "Epoch 19/150\n",
            "39/39 [==============================] - 1s 19ms/step - loss: 0.0124 - mse: 0.0124 - mae: 0.0884 - mape: 252751.0469\n",
            "Epoch 20/150\n",
            "39/39 [==============================] - 1s 19ms/step - loss: 0.0116 - mse: 0.0116 - mae: 0.0852 - mape: 219216.4375\n",
            "Epoch 21/150\n",
            "39/39 [==============================] - 1s 19ms/step - loss: 0.0115 - mse: 0.0115 - mae: 0.0836 - mape: 339421.0312\n",
            "Epoch 22/150\n",
            "39/39 [==============================] - 1s 18ms/step - loss: 0.0113 - mse: 0.0113 - mae: 0.0825 - mape: 304137.2188\n",
            "Epoch 23/150\n",
            "39/39 [==============================] - 1s 18ms/step - loss: 0.0105 - mse: 0.0105 - mae: 0.0808 - mape: 198177.5625\n",
            "Epoch 24/150\n",
            "39/39 [==============================] - 1s 19ms/step - loss: 0.0104 - mse: 0.0104 - mae: 0.0793 - mape: 235959.4219\n",
            "Epoch 25/150\n",
            "39/39 [==============================] - 1s 18ms/step - loss: 0.0092 - mse: 0.0092 - mae: 0.0748 - mape: 327284.6562\n",
            "Epoch 26/150\n",
            "39/39 [==============================] - 1s 18ms/step - loss: 0.0093 - mse: 0.0093 - mae: 0.0753 - mape: 297349.4062\n",
            "Epoch 27/150\n",
            "39/39 [==============================] - 1s 19ms/step - loss: 0.0087 - mse: 0.0087 - mae: 0.0739 - mape: 173801.6406\n",
            "Epoch 28/150\n",
            "39/39 [==============================] - 1s 18ms/step - loss: 0.0083 - mse: 0.0083 - mae: 0.0704 - mape: 302439.8125\n",
            "Epoch 29/150\n",
            "39/39 [==============================] - 1s 18ms/step - loss: 0.0073 - mse: 0.0073 - mae: 0.0665 - mape: 255980.1719\n",
            "Epoch 30/150\n",
            "39/39 [==============================] - 1s 19ms/step - loss: 0.0072 - mse: 0.0072 - mae: 0.0661 - mape: 269672.2500\n",
            "Epoch 31/150\n",
            "39/39 [==============================] - 1s 19ms/step - loss: 0.0069 - mse: 0.0069 - mae: 0.0655 - mape: 248244.4375\n",
            "Epoch 32/150\n",
            "39/39 [==============================] - 1s 18ms/step - loss: 0.0062 - mse: 0.0062 - mae: 0.0608 - mape: 281154.8750\n",
            "Epoch 33/150\n",
            "39/39 [==============================] - 1s 19ms/step - loss: 0.0063 - mse: 0.0063 - mae: 0.0613 - mape: 292444.3438\n",
            "Epoch 34/150\n",
            "39/39 [==============================] - 1s 19ms/step - loss: 0.0057 - mse: 0.0057 - mae: 0.0582 - mape: 276208.2188\n",
            "Epoch 35/150\n",
            "39/39 [==============================] - 1s 19ms/step - loss: 0.0054 - mse: 0.0054 - mae: 0.0560 - mape: 283337.1875\n",
            "Epoch 36/150\n",
            "39/39 [==============================] - 1s 18ms/step - loss: 0.0049 - mse: 0.0049 - mae: 0.0537 - mape: 269938.1250\n",
            "Epoch 37/150\n",
            "39/39 [==============================] - 1s 19ms/step - loss: 0.0046 - mse: 0.0046 - mae: 0.0524 - mape: 265081.7188\n",
            "Epoch 38/150\n",
            "39/39 [==============================] - 1s 18ms/step - loss: 0.0044 - mse: 0.0044 - mae: 0.0505 - mape: 234510.5625\n",
            "Epoch 39/150\n",
            "39/39 [==============================] - 1s 18ms/step - loss: 0.0042 - mse: 0.0042 - mae: 0.0501 - mape: 248371.5469\n",
            "Epoch 40/150\n",
            "39/39 [==============================] - 1s 19ms/step - loss: 0.0040 - mse: 0.0040 - mae: 0.0476 - mape: 279834.0625\n",
            "Epoch 41/150\n",
            "39/39 [==============================] - 1s 19ms/step - loss: 0.0034 - mse: 0.0034 - mae: 0.0445 - mape: 254039.7031\n",
            "Epoch 42/150\n",
            "39/39 [==============================] - 1s 19ms/step - loss: 0.0034 - mse: 0.0034 - mae: 0.0442 - mape: 252946.1875\n",
            "Epoch 43/150\n",
            "39/39 [==============================] - 1s 18ms/step - loss: 0.0033 - mse: 0.0033 - mae: 0.0431 - mape: 289251.4062\n",
            "Epoch 44/150\n",
            "39/39 [==============================] - 1s 19ms/step - loss: 0.0031 - mse: 0.0031 - mae: 0.0417 - mape: 284890.0312\n",
            "Epoch 45/150\n",
            "39/39 [==============================] - 1s 19ms/step - loss: 0.0027 - mse: 0.0027 - mae: 0.0396 - mape: 255361.3594\n",
            "Epoch 46/150\n",
            "39/39 [==============================] - 1s 18ms/step - loss: 0.0027 - mse: 0.0027 - mae: 0.0381 - mape: 240020.6719\n",
            "Epoch 47/150\n",
            "39/39 [==============================] - 1s 19ms/step - loss: 0.0024 - mse: 0.0024 - mae: 0.0369 - mape: 239786.3750\n",
            "Epoch 48/150\n",
            "39/39 [==============================] - 1s 19ms/step - loss: 0.0025 - mse: 0.0025 - mae: 0.0361 - mape: 277894.7500\n",
            "Epoch 49/150\n",
            "39/39 [==============================] - 1s 18ms/step - loss: 0.0025 - mse: 0.0025 - mae: 0.0357 - mape: 312561.9375\n",
            "Epoch 50/150\n",
            "39/39 [==============================] - 1s 18ms/step - loss: 0.0022 - mse: 0.0022 - mae: 0.0338 - mape: 287475.1562\n",
            "Epoch 51/150\n",
            "39/39 [==============================] - 1s 18ms/step - loss: 0.0020 - mse: 0.0020 - mae: 0.0317 - mape: 281105.8125\n",
            "Epoch 52/150\n",
            "39/39 [==============================] - 1s 18ms/step - loss: 0.0019 - mse: 0.0019 - mae: 0.0307 - mape: 294364.4688\n",
            "Epoch 53/150\n",
            "39/39 [==============================] - 1s 18ms/step - loss: 0.0017 - mse: 0.0017 - mae: 0.0298 - mape: 254267.8906\n",
            "Epoch 54/150\n",
            "39/39 [==============================] - 1s 18ms/step - loss: 0.0016 - mse: 0.0016 - mae: 0.0281 - mape: 255347.0000\n",
            "Epoch 55/150\n",
            "39/39 [==============================] - 1s 18ms/step - loss: 0.0016 - mse: 0.0016 - mae: 0.0277 - mape: 271385.3125\n",
            "Epoch 56/150\n",
            "39/39 [==============================] - 1s 18ms/step - loss: 0.0016 - mse: 0.0016 - mae: 0.0274 - mape: 280957.0625\n",
            "Epoch 57/150\n",
            "39/39 [==============================] - 1s 18ms/step - loss: 0.0014 - mse: 0.0014 - mae: 0.0257 - mape: 273066.7188\n",
            "Epoch 58/150\n",
            "39/39 [==============================] - 1s 18ms/step - loss: 0.0014 - mse: 0.0014 - mae: 0.0249 - mape: 270253.3438\n",
            "Epoch 59/150\n",
            "39/39 [==============================] - 1s 18ms/step - loss: 0.0013 - mse: 0.0013 - mae: 0.0237 - mape: 275765.0000\n",
            "Epoch 60/150\n",
            "39/39 [==============================] - 1s 18ms/step - loss: 0.0012 - mse: 0.0012 - mae: 0.0233 - mape: 281492.0000\n",
            "Epoch 61/150\n",
            "39/39 [==============================] - 1s 18ms/step - loss: 0.0011 - mse: 0.0011 - mae: 0.0223 - mape: 258700.6094\n",
            "Epoch 62/150\n",
            "39/39 [==============================] - 1s 19ms/step - loss: 0.0012 - mse: 0.0012 - mae: 0.0224 - mape: 270716.9375\n",
            "Epoch 63/150\n",
            "39/39 [==============================] - 1s 18ms/step - loss: 0.0010 - mse: 0.0010 - mae: 0.0208 - mape: 266913.5000\n",
            "Epoch 64/150\n",
            "39/39 [==============================] - 1s 18ms/step - loss: 0.0011 - mse: 0.0011 - mae: 0.0210 - mape: 272659.2188\n",
            "Epoch 65/150\n",
            "39/39 [==============================] - 1s 19ms/step - loss: 0.0010 - mse: 0.0010 - mae: 0.0208 - mape: 276285.8750\n",
            "Epoch 66/150\n",
            "39/39 [==============================] - 1s 19ms/step - loss: 0.0010 - mse: 0.0010 - mae: 0.0205 - mape: 280561.3125\n",
            "Epoch 67/150\n",
            "39/39 [==============================] - 1s 18ms/step - loss: 9.1154e-04 - mse: 9.1154e-04 - mae: 0.0191 - mape: 269069.3438\n",
            "Epoch 68/150\n",
            "39/39 [==============================] - 1s 18ms/step - loss: 9.0379e-04 - mse: 9.0379e-04 - mae: 0.0189 - mape: 275578.4375\n",
            "Epoch 69/150\n",
            "39/39 [==============================] - 1s 18ms/step - loss: 8.9014e-04 - mse: 8.9014e-04 - mae: 0.0191 - mape: 274029.9375\n",
            "Epoch 70/150\n",
            "39/39 [==============================] - 1s 19ms/step - loss: 8.5262e-04 - mse: 8.5262e-04 - mae: 0.0182 - mape: 277081.0312\n",
            "Epoch 71/150\n",
            "39/39 [==============================] - 1s 19ms/step - loss: 8.1456e-04 - mse: 8.1456e-04 - mae: 0.0182 - mape: 271412.7812\n",
            "Epoch 72/150\n",
            "39/39 [==============================] - 1s 19ms/step - loss: 7.8011e-04 - mse: 7.8011e-04 - mae: 0.0176 - mape: 274250.3750\n",
            "Epoch 73/150\n",
            "39/39 [==============================] - 1s 19ms/step - loss: 7.9352e-04 - mse: 7.9352e-04 - mae: 0.0177 - mape: 273644.1562\n",
            "Epoch 74/150\n",
            "39/39 [==============================] - 1s 18ms/step - loss: 8.2856e-04 - mse: 8.2856e-04 - mae: 0.0182 - mape: 272871.5312\n",
            "Epoch 75/150\n",
            "39/39 [==============================] - 1s 18ms/step - loss: 7.9234e-04 - mse: 7.9234e-04 - mae: 0.0179 - mape: 278779.3125\n",
            "Epoch 76/150\n",
            "39/39 [==============================] - 1s 19ms/step - loss: 8.2043e-04 - mse: 8.2043e-04 - mae: 0.0188 - mape: 276277.4062\n",
            "Epoch 77/150\n",
            "39/39 [==============================] - 1s 18ms/step - loss: 7.6759e-04 - mse: 7.6759e-04 - mae: 0.0176 - mape: 271971.2500\n",
            "Epoch 78/150\n",
            "39/39 [==============================] - 1s 19ms/step - loss: 7.6543e-04 - mse: 7.6543e-04 - mae: 0.0174 - mape: 277630.4688\n",
            "Epoch 79/150\n",
            "39/39 [==============================] - 1s 19ms/step - loss: 7.5593e-04 - mse: 7.5593e-04 - mae: 0.0171 - mape: 278818.6562\n",
            "Epoch 80/150\n",
            "39/39 [==============================] - 1s 19ms/step - loss: 7.4565e-04 - mse: 7.4565e-04 - mae: 0.0176 - mape: 272213.0625\n",
            "Epoch 81/150\n",
            "39/39 [==============================] - 1s 18ms/step - loss: 7.5095e-04 - mse: 7.5095e-04 - mae: 0.0176 - mape: 273410.9375\n",
            "Epoch 82/150\n",
            "39/39 [==============================] - 1s 19ms/step - loss: 7.7427e-04 - mse: 7.7427e-04 - mae: 0.0176 - mape: 277754.7500\n",
            "Epoch 83/150\n",
            "39/39 [==============================] - 1s 18ms/step - loss: 7.8437e-04 - mse: 7.8437e-04 - mae: 0.0183 - mape: 278742.4062\n",
            "Epoch 84/150\n",
            "39/39 [==============================] - 1s 18ms/step - loss: 7.0837e-04 - mse: 7.0837e-04 - mae: 0.0171 - mape: 272719.2500\n",
            "Epoch 85/150\n",
            "39/39 [==============================] - 1s 18ms/step - loss: 6.9873e-04 - mse: 6.9873e-04 - mae: 0.0167 - mape: 276705.7812\n",
            "Epoch 86/150\n",
            "39/39 [==============================] - 1s 19ms/step - loss: 7.0296e-04 - mse: 7.0296e-04 - mae: 0.0171 - mape: 272320.2188\n",
            "Epoch 87/150\n",
            "39/39 [==============================] - 1s 18ms/step - loss: 7.0039e-04 - mse: 7.0039e-04 - mae: 0.0169 - mape: 269483.9375\n",
            "Epoch 88/150\n",
            "39/39 [==============================] - 1s 19ms/step - loss: 7.3461e-04 - mse: 7.3461e-04 - mae: 0.0178 - mape: 271395.9688\n",
            "Epoch 89/150\n",
            "39/39 [==============================] - 1s 19ms/step - loss: 7.1635e-04 - mse: 7.1635e-04 - mae: 0.0176 - mape: 273681.9688\n",
            "Epoch 90/150\n",
            "39/39 [==============================] - 1s 19ms/step - loss: 7.2644e-04 - mse: 7.2644e-04 - mae: 0.0173 - mape: 272877.4375\n",
            "Epoch 91/150\n",
            "39/39 [==============================] - 1s 18ms/step - loss: 7.1195e-04 - mse: 7.1195e-04 - mae: 0.0174 - mape: 268173.5625\n",
            "Epoch 92/150\n",
            "39/39 [==============================] - 1s 19ms/step - loss: 6.8966e-04 - mse: 6.8966e-04 - mae: 0.0167 - mape: 277859.7500\n",
            "Epoch 93/150\n",
            "39/39 [==============================] - 1s 18ms/step - loss: 7.0737e-04 - mse: 7.0737e-04 - mae: 0.0174 - mape: 272894.9062\n",
            "Epoch 94/150\n",
            "39/39 [==============================] - 1s 18ms/step - loss: 6.9432e-04 - mse: 6.9432e-04 - mae: 0.0169 - mape: 274697.0938\n",
            "Epoch 95/150\n",
            "39/39 [==============================] - 1s 18ms/step - loss: 6.9110e-04 - mse: 6.9110e-04 - mae: 0.0170 - mape: 278488.8750\n",
            "Epoch 96/150\n",
            "39/39 [==============================] - 1s 19ms/step - loss: 6.9826e-04 - mse: 6.9826e-04 - mae: 0.0171 - mape: 276448.6562\n",
            "Epoch 97/150\n",
            "39/39 [==============================] - 1s 19ms/step - loss: 6.6486e-04 - mse: 6.6486e-04 - mae: 0.0167 - mape: 270009.3750\n",
            "Epoch 98/150\n",
            "39/39 [==============================] - 1s 18ms/step - loss: 6.9908e-04 - mse: 6.9908e-04 - mae: 0.0170 - mape: 273044.9688\n",
            "Epoch 99/150\n",
            "39/39 [==============================] - 1s 18ms/step - loss: 7.1861e-04 - mse: 7.1861e-04 - mae: 0.0174 - mape: 277565.5000\n",
            "Epoch 100/150\n",
            "39/39 [==============================] - 1s 18ms/step - loss: 7.6949e-04 - mse: 7.6949e-04 - mae: 0.0182 - mape: 279106.0625\n",
            "Epoch 101/150\n",
            "39/39 [==============================] - 1s 18ms/step - loss: 7.2224e-04 - mse: 7.2224e-04 - mae: 0.0178 - mape: 274860.7500\n",
            "Epoch 102/150\n",
            "39/39 [==============================] - 1s 18ms/step - loss: 6.8632e-04 - mse: 6.8632e-04 - mae: 0.0172 - mape: 272339.0938\n",
            "Epoch 103/150\n",
            "39/39 [==============================] - 1s 19ms/step - loss: 7.2917e-04 - mse: 7.2917e-04 - mae: 0.0179 - mape: 267903.5938\n",
            "Epoch 104/150\n",
            "39/39 [==============================] - 1s 19ms/step - loss: 7.2751e-04 - mse: 7.2751e-04 - mae: 0.0174 - mape: 278785.4375\n",
            "Epoch 105/150\n",
            "39/39 [==============================] - 1s 19ms/step - loss: 7.0124e-04 - mse: 7.0124e-04 - mae: 0.0170 - mape: 268283.5312\n",
            "Epoch 106/150\n",
            "39/39 [==============================] - 1s 18ms/step - loss: 6.8273e-04 - mse: 6.8273e-04 - mae: 0.0172 - mape: 265379.1562\n",
            "Epoch 107/150\n",
            "39/39 [==============================] - 1s 18ms/step - loss: 6.8726e-04 - mse: 6.8726e-04 - mae: 0.0170 - mape: 264009.4375\n",
            "Epoch 108/150\n",
            "39/39 [==============================] - 1s 19ms/step - loss: 7.2280e-04 - mse: 7.2280e-04 - mae: 0.0177 - mape: 266110.1875\n",
            "Epoch 109/150\n",
            "39/39 [==============================] - 1s 18ms/step - loss: 6.8488e-04 - mse: 6.8488e-04 - mae: 0.0166 - mape: 274348.6562\n",
            "Epoch 110/150\n",
            "39/39 [==============================] - 1s 18ms/step - loss: 7.0476e-04 - mse: 7.0476e-04 - mae: 0.0172 - mape: 278266.8750\n",
            "Epoch 111/150\n",
            "39/39 [==============================] - 1s 20ms/step - loss: 6.9727e-04 - mse: 6.9727e-04 - mae: 0.0172 - mape: 277818.5000\n",
            "Epoch 112/150\n",
            "39/39 [==============================] - 1s 18ms/step - loss: 7.1010e-04 - mse: 7.1010e-04 - mae: 0.0172 - mape: 276007.4375\n",
            "Epoch 113/150\n",
            "39/39 [==============================] - 1s 20ms/step - loss: 7.2249e-04 - mse: 7.2249e-04 - mae: 0.0178 - mape: 267969.8750\n",
            "Epoch 114/150\n",
            "39/39 [==============================] - 1s 19ms/step - loss: 6.5678e-04 - mse: 6.5678e-04 - mae: 0.0165 - mape: 273841.9688\n",
            "Epoch 115/150\n",
            "39/39 [==============================] - 1s 19ms/step - loss: 7.1496e-04 - mse: 7.1496e-04 - mae: 0.0176 - mape: 272109.5625\n",
            "Epoch 116/150\n",
            "39/39 [==============================] - 1s 18ms/step - loss: 6.8093e-04 - mse: 6.8093e-04 - mae: 0.0172 - mape: 270829.4062\n",
            "Epoch 117/150\n",
            "39/39 [==============================] - 1s 19ms/step - loss: 6.9980e-04 - mse: 6.9980e-04 - mae: 0.0173 - mape: 270965.9062\n",
            "Epoch 118/150\n",
            "39/39 [==============================] - 1s 19ms/step - loss: 6.5309e-04 - mse: 6.5309e-04 - mae: 0.0164 - mape: 272674.7188\n",
            "Epoch 119/150\n",
            "39/39 [==============================] - 1s 19ms/step - loss: 6.7986e-04 - mse: 6.7986e-04 - mae: 0.0165 - mape: 277465.0000\n",
            "Epoch 120/150\n",
            "39/39 [==============================] - 1s 19ms/step - loss: 6.9698e-04 - mse: 6.9698e-04 - mae: 0.0175 - mape: 266313.5938\n",
            "Epoch 121/150\n",
            "39/39 [==============================] - 1s 19ms/step - loss: 7.0380e-04 - mse: 7.0380e-04 - mae: 0.0174 - mape: 269270.1250\n",
            "Epoch 122/150\n",
            "39/39 [==============================] - 1s 19ms/step - loss: 6.8664e-04 - mse: 6.8664e-04 - mae: 0.0170 - mape: 278468.8125\n",
            "Epoch 123/150\n",
            "39/39 [==============================] - 1s 19ms/step - loss: 6.8005e-04 - mse: 6.8005e-04 - mae: 0.0169 - mape: 276681.8438\n",
            "Epoch 124/150\n",
            "39/39 [==============================] - 1s 19ms/step - loss: 6.8730e-04 - mse: 6.8730e-04 - mae: 0.0170 - mape: 281663.1250\n",
            "Epoch 125/150\n",
            "39/39 [==============================] - 1s 19ms/step - loss: 7.0600e-04 - mse: 7.0600e-04 - mae: 0.0170 - mape: 269842.1250\n",
            "Epoch 126/150\n",
            "39/39 [==============================] - 1s 19ms/step - loss: 7.1486e-04 - mse: 7.1486e-04 - mae: 0.0175 - mape: 274505.4688\n",
            "Epoch 127/150\n",
            "39/39 [==============================] - 1s 19ms/step - loss: 7.2035e-04 - mse: 7.2035e-04 - mae: 0.0175 - mape: 277278.7812\n",
            "Epoch 128/150\n",
            "39/39 [==============================] - 1s 19ms/step - loss: 7.4563e-04 - mse: 7.4563e-04 - mae: 0.0180 - mape: 274147.0000\n",
            "Epoch 129/150\n",
            "39/39 [==============================] - 1s 19ms/step - loss: 6.9382e-04 - mse: 6.9382e-04 - mae: 0.0168 - mape: 273581.5625\n",
            "Epoch 130/150\n",
            "39/39 [==============================] - 1s 19ms/step - loss: 7.3673e-04 - mse: 7.3673e-04 - mae: 0.0176 - mape: 278893.8438\n",
            "Epoch 131/150\n",
            "39/39 [==============================] - 1s 19ms/step - loss: 6.6635e-04 - mse: 6.6635e-04 - mae: 0.0168 - mape: 273342.0000\n",
            "Epoch 132/150\n",
            "39/39 [==============================] - 1s 19ms/step - loss: 7.1942e-04 - mse: 7.1942e-04 - mae: 0.0177 - mape: 275499.5625\n",
            "Epoch 133/150\n",
            "39/39 [==============================] - 1s 19ms/step - loss: 6.9313e-04 - mse: 6.9313e-04 - mae: 0.0171 - mape: 271755.8125\n",
            "Epoch 134/150\n",
            "39/39 [==============================] - 1s 19ms/step - loss: 7.2831e-04 - mse: 7.2831e-04 - mae: 0.0175 - mape: 280353.8438\n",
            "Epoch 135/150\n",
            "39/39 [==============================] - 1s 34ms/step - loss: 6.9481e-04 - mse: 6.9481e-04 - mae: 0.0168 - mape: 275666.0625\n",
            "Epoch 136/150\n",
            "39/39 [==============================] - 1s 34ms/step - loss: 7.2457e-04 - mse: 7.2457e-04 - mae: 0.0177 - mape: 275803.1562\n",
            "Epoch 137/150\n",
            "39/39 [==============================] - 2s 39ms/step - loss: 7.1799e-04 - mse: 7.1799e-04 - mae: 0.0177 - mape: 269428.5000\n",
            "Epoch 138/150\n",
            "39/39 [==============================] - 1s 19ms/step - loss: 6.8123e-04 - mse: 6.8123e-04 - mae: 0.0168 - mape: 279528.5000\n",
            "Epoch 139/150\n",
            "39/39 [==============================] - 1s 19ms/step - loss: 6.8521e-04 - mse: 6.8521e-04 - mae: 0.0169 - mape: 277444.5312\n",
            "Epoch 140/150\n",
            "39/39 [==============================] - 1s 19ms/step - loss: 6.7398e-04 - mse: 6.7398e-04 - mae: 0.0168 - mape: 273023.3125\n",
            "Epoch 141/150\n",
            "39/39 [==============================] - 1s 19ms/step - loss: 7.1435e-04 - mse: 7.1435e-04 - mae: 0.0176 - mape: 273684.2500\n",
            "Epoch 142/150\n",
            "39/39 [==============================] - 1s 19ms/step - loss: 7.1874e-04 - mse: 7.1874e-04 - mae: 0.0176 - mape: 278950.8750\n",
            "Epoch 143/150\n",
            "39/39 [==============================] - 1s 20ms/step - loss: 6.7741e-04 - mse: 6.7741e-04 - mae: 0.0167 - mape: 274510.6250\n",
            "Epoch 144/150\n",
            "39/39 [==============================] - 1s 20ms/step - loss: 7.5895e-04 - mse: 7.5895e-04 - mae: 0.0186 - mape: 270546.8125\n",
            "Epoch 145/150\n",
            "39/39 [==============================] - 1s 20ms/step - loss: 6.9074e-04 - mse: 6.9074e-04 - mae: 0.0171 - mape: 277013.8438\n",
            "Epoch 146/150\n",
            "39/39 [==============================] - 1s 20ms/step - loss: 6.9928e-04 - mse: 6.9928e-04 - mae: 0.0172 - mape: 273990.6875\n",
            "Epoch 147/150\n",
            "39/39 [==============================] - 1s 20ms/step - loss: 6.8364e-04 - mse: 6.8364e-04 - mae: 0.0170 - mape: 274884.6875\n",
            "Epoch 148/150\n",
            "39/39 [==============================] - 1s 20ms/step - loss: 6.5765e-04 - mse: 6.5765e-04 - mae: 0.0168 - mape: 268928.3750\n",
            "Epoch 149/150\n",
            "39/39 [==============================] - 1s 19ms/step - loss: 7.1759e-04 - mse: 7.1759e-04 - mae: 0.0177 - mape: 272420.4062\n",
            "Epoch 150/150\n",
            "39/39 [==============================] - 1s 19ms/step - loss: 7.0261e-04 - mse: 7.0261e-04 - mae: 0.0173 - mape: 276486.3125\n"
          ]
        }
      ]
    },
    {
      "cell_type": "code",
      "source": [
        "plt.plot(history.history['mse'],'-b',label='mse')\n",
        "plt.plot(history.history['mae'],'-g',label='mae')\n",
        "plt.legend(loc='upper left')\n",
        "plt.show()"
      ],
      "metadata": {
        "colab": {
          "base_uri": "https://localhost:8080/",
          "height": 347
        },
        "id": "auavwvM5w1ML",
        "outputId": "c40e9f47-c22c-4f0d-973b-44b1280682be"
      },
      "execution_count": null,
      "outputs": [
        {
          "output_type": "display_data",
          "data": {
            "text/plain": [
              "<Figure size 576x396 with 1 Axes>"
            ],
            "image/png": "[encoded data removed]"
          },
          "metadata": {}
        }
      ]
    },
    {
      "cell_type": "code",
      "source": [
        "test_data=scaled_data[int(training_dataset_len)-10:, :]\n",
        "print(len(test_data))\n",
        "\n",
        "x_test=[]\n",
        "y_test=dt_pen[int(training_dataset_len):,:]\n",
        "window=10\n",
        "for i in range(window,len(test_data)):\n",
        "  x_test.append(test_data[i-window:i,0])\n",
        "x_test=np.array(x_test)\n"
      ],
      "metadata": {
        "id": "H_U7XtjJoKZX",
        "colab": {
          "base_uri": "https://localhost:8080/"
        },
        "outputId": "6c6f81c4-d53d-46f9-a54d-3342b8bb99c1"
      },
      "execution_count": null,
      "outputs": [
        {
          "output_type": "stream",
          "name": "stdout",
          "text": [
            "636\n"
          ]
        }
      ]
    },
    {
      "cell_type": "code",
      "source": [
        "print(len(x_test))\n",
        "print(len(y_test))"
      ],
      "metadata": {
        "colab": {
          "base_uri": "https://localhost:8080/"
        },
        "id": "2krFJ2xkre3z",
        "outputId": "f53b43c2-7a8c-4637-c082-648483e6165f"
      },
      "execution_count": null,
      "outputs": [
        {
          "output_type": "stream",
          "name": "stdout",
          "text": [
            "626\n",
            "626\n"
          ]
        }
      ]
    },
    {
      "cell_type": "code",
      "source": [
        "x_test=np.reshape(x_test, (x_test.shape[0],x_test.shape[1],n_features) )\n"
      ],
      "metadata": {
        "id": "wpMXq4rpDD8b"
      },
      "execution_count": null,
      "outputs": []
    },
    {
      "cell_type": "code",
      "source": [
        "predictions=model_lstm.predict(x_test)"
      ],
      "metadata": {
        "colab": {
          "base_uri": "https://localhost:8080/"
        },
        "id": "ziGueimKwKwg",
        "outputId": "2ca1da95-2182-44a7-b7d4-acba603f08c0"
      },
      "execution_count": null,
      "outputs": [
        {
          "output_type": "stream",
          "name": "stdout",
          "text": [
            "20/20 [==============================] - 1s 5ms/step\n"
          ]
        }
      ]
    },
    {
      "cell_type": "code",
      "source": [
        "\n",
        "preds=scaler.inverse_transform(predictions.reshape(-1,1))"
      ],
      "metadata": {
        "id": "1Vjzb3gl81hA"
      },
      "execution_count": null,
      "outputs": []
    },
    {
      "cell_type": "code",
      "source": [
        "print(len(preds))"
      ],
      "metadata": {
        "colab": {
          "base_uri": "https://localhost:8080/"
        },
        "id": "djWOPvc_FT-3",
        "outputId": "afeca365-0d79-4423-bd7c-74484e0b32c1"
      },
      "execution_count": null,
      "outputs": [
        {
          "output_type": "stream",
          "name": "stdout",
          "text": [
            "626\n"
          ]
        }
      ]
    },
    {
      "cell_type": "code",
      "source": [
        "#metricas\n",
        "# RMSE\n",
        "print(\"Resultados de metricas\")\n",
        "print('Test RSME',np.sqrt(metrics.mean_squared_error(y_test, preds)))\n",
        "k = metrics.mean_absolute_error(y_test, preds)\n",
        "print('Test Mean Absolute Error', k )\n",
        "print('Test r2', metrics.r2_score(y_test,preds) )"
      ],
      "metadata": {
        "colab": {
          "base_uri": "https://localhost:8080/"
        },
        "id": "cNE6JYDHwhQ1",
        "outputId": "94c745e6-778f-41d9-eca1-84d288056b6d"
      },
      "execution_count": null,
      "outputs": [
        {
          "output_type": "stream",
          "name": "stdout",
          "text": [
            "Resultados de metricas\n",
            "Test RSME 0.051171786307368745\n",
            "Test Mean Absolute Error 0.04285109382207706\n",
            "Test r2 0.4487240530567813\n"
          ]
        }
      ]
    },
    {
      "cell_type": "code",
      "source": [
        "plt.plot(y_test, '-b',label='real')\n",
        "plt.plot(preds, '-r',label='pred')\n",
        "plt.legend(loc='upper left')\n",
        "plt.show()\n",
        "\n",
        "#eliminar anomalia (reemplazar con data promedio)\n",
        "#imputacion de datos\n",
        "\n",
        "\n",
        "#siguiente resultados presentacion, comparacion de resultados()\n",
        "#para el final de hiperparametros\n"
      ],
      "metadata": {
        "colab": {
          "base_uri": "https://localhost:8080/",
          "height": 347
        },
        "id": "C8Mr-U2_I7ee",
        "outputId": "96fd7942-9342-4b2f-ce7b-8ecb511e8259"
      },
      "execution_count": null,
      "outputs": [
        {
          "output_type": "display_data",
          "data": {
            "text/plain": [
              "<Figure size 576x396 with 1 Axes>"
            ],
            "image/png": "[encoded data removed]"
          },
          "metadata": {}
        }
      ]
    },
    {
      "cell_type": "markdown",
      "source": [
        "# LSTM CON OPTUNA"
      ],
      "metadata": {
        "id": "s04AooJ_oK22"
      }
    },
    {
      "cell_type": "code",
      "source": [
        "!pip install optuna"
      ],
      "metadata": {
        "colab": {
          "base_uri": "https://localhost:8080/"
        },
        "id": "fMgMsFVVK5pm",
        "outputId": "1d9c7099-fd37-4a21-cee8-6b9b45eefcfb"
      },
      "execution_count": null,
      "outputs": [
        {
          "output_type": "stream",
          "name": "stdout",
          "text": [
            "Looking in indexes: https://pypi.org/simple, https://us-python.pkg.dev/colab-wheels/public/simple/\n",
            "Collecting optuna\n",
            "  Downloading optuna-3.0.3-py3-none-any.whl (348 kB)\n",
            "\u001b[K     |████████████████████████████████| 348 kB 5.7 MB/s \n",
            "\u001b[?25hRequirement already satisfied: packaging>=20.0 in /usr/local/lib/python3.7/dist-packages (from optuna) (21.3)\n",
            "Collecting colorlog\n",
            "  Downloading colorlog-6.7.0-py2.py3-none-any.whl (11 kB)\n",
            "Requirement already satisfied: tqdm in /usr/local/lib/python3.7/dist-packages (from optuna) (4.64.1)\n",
            "Requirement already satisfied: numpy in /usr/local/lib/python3.7/dist-packages (from optuna) (1.21.6)\n",
            "Collecting cliff\n",
            "  Downloading cliff-3.10.1-py3-none-any.whl (81 kB)\n",
            "\u001b[K     |████████████████████████████████| 81 kB 7.4 MB/s \n",
            "\u001b[?25hRequirement already satisfied: PyYAML in /usr/local/lib/python3.7/dist-packages (from optuna) (6.0)\n",
            "Collecting alembic>=1.5.0\n",
            "  Downloading alembic-1.8.1-py3-none-any.whl (209 kB)\n",
            "\u001b[K     |████████████████████████████████| 209 kB 55.5 MB/s \n",
            "\u001b[?25hRequirement already satisfied: importlib-metadata<5.0.0 in /usr/local/lib/python3.7/dist-packages (from optuna) (4.13.0)\n",
            "Requirement already satisfied: sqlalchemy>=1.3.0 in /usr/local/lib/python3.7/dist-packages (from optuna) (1.4.44)\n",
            "Requirement already satisfied: scipy<1.9.0,>=1.7.0 in /usr/local/lib/python3.7/dist-packages (from optuna) (1.7.3)\n",
            "Collecting cmaes>=0.8.2\n",
            "  Downloading cmaes-0.9.0-py3-none-any.whl (23 kB)\n",
            "Collecting Mako\n",
            "  Downloading Mako-1.2.4-py3-none-any.whl (78 kB)\n",
            "\u001b[K     |████████████████████████████████| 78 kB 6.9 MB/s \n",
            "\u001b[?25hRequirement already satisfied: importlib-resources in /usr/local/lib/python3.7/dist-packages (from alembic>=1.5.0->optuna) (5.10.0)\n",
            "Requirement already satisfied: typing-extensions>=3.6.4 in /usr/local/lib/python3.7/dist-packages (from importlib-metadata<5.0.0->optuna) (4.1.1)\n",
            "Requirement already satisfied: zipp>=0.5 in /usr/local/lib/python3.7/dist-packages (from importlib-metadata<5.0.0->optuna) (3.10.0)\n",
            "Requirement already satisfied: pyparsing!=3.0.5,>=2.0.2 in /usr/local/lib/python3.7/dist-packages (from packaging>=20.0->optuna) (3.0.9)\n",
            "Requirement already satisfied: greenlet!=0.4.17 in /usr/local/lib/python3.7/dist-packages (from sqlalchemy>=1.3.0->optuna) (2.0.1)\n",
            "Collecting autopage>=0.4.0\n",
            "  Downloading autopage-0.5.1-py3-none-any.whl (29 kB)\n",
            "Collecting pbr!=2.1.0,>=2.0.0\n",
            "  Downloading pbr-5.11.0-py2.py3-none-any.whl (112 kB)\n",
            "\u001b[K     |████████████████████████████████| 112 kB 53.7 MB/s \n",
            "\u001b[?25hCollecting cmd2>=1.0.0\n",
            "  Downloading cmd2-2.4.2-py3-none-any.whl (147 kB)\n",
            "\u001b[K     |████████████████████████████████| 147 kB 52.2 MB/s \n",
            "\u001b[?25hRequirement already satisfied: PrettyTable>=0.7.2 in /usr/local/lib/python3.7/dist-packages (from cliff->optuna) (3.5.0)\n",
            "Collecting stevedore>=2.0.1\n",
            "  Downloading stevedore-3.5.2-py3-none-any.whl (50 kB)\n",
            "\u001b[K     |████████████████████████████████| 50 kB 5.6 MB/s \n",
            "\u001b[?25hCollecting pyperclip>=1.6\n",
            "  Downloading pyperclip-1.8.2.tar.gz (20 kB)\n",
            "Requirement already satisfied: wcwidth>=0.1.7 in /usr/local/lib/python3.7/dist-packages (from cmd2>=1.0.0->cliff->optuna) (0.2.5)\n",
            "Requirement already satisfied: attrs>=16.3.0 in /usr/local/lib/python3.7/dist-packages (from cmd2>=1.0.0->cliff->optuna) (22.1.0)\n",
            "Requirement already satisfied: MarkupSafe>=0.9.2 in /usr/local/lib/python3.7/dist-packages (from Mako->alembic>=1.5.0->optuna) (2.0.1)\n",
            "Building wheels for collected packages: pyperclip\n",
            "  Building wheel for pyperclip (setup.py) ... \u001b[?25l\u001b[?25hdone\n",
            "  Created wheel for pyperclip: filename=pyperclip-1.8.2-py3-none-any.whl size=11136 sha256=95a0268e527e61365e037982867203ad1ec80e2d8932bf7c5d7e8d14a2f185f8\n",
            "  Stored in directory: /root/.cache/pip/wheels/9f/18/84/8f69f8b08169c7bae2dde6bd7daf0c19fca8c8e500ee620a28\n",
            "Successfully built pyperclip\n",
            "Installing collected packages: pyperclip, pbr, stevedore, Mako, cmd2, autopage, colorlog, cmaes, cliff, alembic, optuna\n",
            "Successfully installed Mako-1.2.4 alembic-1.8.1 autopage-0.5.1 cliff-3.10.1 cmaes-0.9.0 cmd2-2.4.2 colorlog-6.7.0 optuna-3.0.3 pbr-5.11.0 pyperclip-1.8.2 stevedore-3.5.2\n"
          ]
        }
      ]
    },
    {
      "cell_type": "code",
      "source": [
        "import keras\n",
        "def create_lstm_model(trial):\n",
        "\n",
        "    x0 = tf.keras.layers.Input(shape=(x_train.shape[1],1))\n",
        "    lstm_layers = 4\n",
        "    lstm_units = np.zeros(lstm_layers, dtype=np.int)\n",
        "    lstm_units[0] = trial.suggest_int(\"lstm_units_L1\", 100, 1536)\n",
        "    lstm = Sequential(LSTM(lstm_units[0], return_sequences=True))(x0)\n",
        "    for i in range(lstm_layers-1):\n",
        "        lstm_units[i+1] = trial.suggest_int(\"lstm_units_L{}\".format(i+2), lstm_units[i]//2, lstm_units[i])\n",
        "        lstm = LSTM(lstm_units[i+1], return_sequences=True)(lstm)\n",
        "    dropout_rate = trial.suggest_float(\"lstm_dropout\", 0.0, 0.5)\n",
        "    lstm = Dropout(dropout_rate)(lstm)\n",
        "    dense_units = lstm_units[-1]\n",
        "    # try different activations\n",
        "    activation = trial.suggest_categorical(\"activation\", [\"relu\", \"selu\", \"elu\", \"swish\"])\n",
        "    lstm = Dense(dense_units, activation=activation)(lstm)\n",
        "    lstm = Dense(1)(lstm)\n",
        "\n",
        "    model = keras.Model(inputs=x0, outputs=lstm)\n",
        "    model.compile(optimizer=\"adam\", loss='mean_squared_error',metrics=['mse', 'mae', 'mape','accuracy'])\n",
        "\n",
        "    return model"
      ],
      "metadata": {
        "id": "-wUj4cz5F3LK"
      },
      "execution_count": null,
      "outputs": []
    },
    {
      "cell_type": "code",
      "source": [
        "# Function to get hardware strategy\n",
        "def get_hardware_strategy():\n",
        "    try:\n",
        "        # TPU detection. No parameters necessary if TPU_NAME environment variable is\n",
        "        # set: this is always the case on Kaggle.\n",
        "        tpu = tf.distribute.cluster_resolver.TPUClusterResolver()\n",
        "        print('Running on TPU ', tpu.master())\n",
        "    except ValueError:\n",
        "        tpu = None\n",
        "\n",
        "    if tpu:\n",
        "        tf.config.experimental_connect_to_cluster(tpu)\n",
        "        tf.tpu.experimental.initialize_tpu_system(tpu)\n",
        "        strategy = tf.distribute.experimental.TPUStrategy(tpu)\n",
        "        tf.config.optimizer.set_jit(True)\n",
        "    else:\n",
        "        # Default distribution strategy in Tensorflow. Works on CPU and single GPU.\n",
        "        strategy = tf.distribute.get_strategy()\n",
        "\n",
        "    return tpu, strategy\n",
        "\n",
        "tpu, strategy = get_hardware_strategy()"
      ],
      "metadata": {
        "id": "rFKdzQkXM2PF"
      },
      "execution_count": null,
      "outputs": []
    },
    {
      "cell_type": "code",
      "source": [
        "EPOCHS = 10 # number of epocs per trial\n",
        "BATCH_SIZE=32\n",
        "import optuna\n",
        "from optuna.integration import TFKerasPruningCallback\n",
        "from optuna.trial import TrialState\n",
        "from tensorflow import keras\n",
        "from tensorflow.keras.layers import *\n",
        "from tensorflow.keras import *\n",
        "from tensorflow.keras.callbacks import EarlyStopping\n",
        "from tensorflow.keras.callbacks import LearningRateScheduler\n",
        "from tensorflow.keras.optimizers.schedules import ExponentialDecay"
      ],
      "metadata": {
        "id": "siYflWsQNh3b"
      },
      "execution_count": null,
      "outputs": []
    },
    {
      "cell_type": "code",
      "source": [
        "\n",
        "def objective(trial):\n",
        "\n",
        "    # Clear clutter from previous session graphs.\n",
        "    keras.backend.clear_session()\n",
        "\n",
        "    with strategy.scope():\n",
        "        # Generate our trial model.\n",
        "        model = create_lstm_model(trial)\n",
        "\n",
        "        # learning rate scheduler\n",
        "        scheduler = ExponentialDecay(1e-3, 400*((x_train.shape[0]*0.8)/BATCH_SIZE), 1e-5)\n",
        "        lr = LearningRateScheduler(scheduler, verbose=0)\n",
        "\n",
        "        # Fit the model on the training data.\n",
        "        # The TFKerasPruningCallback checks for pruning condition every epoch.\n",
        "        model.fit(\n",
        "            x_train,\n",
        "            y_train,\n",
        "            batch_size=BATCH_SIZE,\n",
        "            epochs=EPOCHS,\n",
        "            verbose=1,\n",
        "        )\n",
        "\n",
        "        # Evaluate the model accuracy on the validation set.\n",
        "        score = model.evaluate(x_test, y_test, verbose=0)\n",
        "        return score[0]"
      ],
      "metadata": {
        "id": "E5fyREyLiRmD"
      },
      "execution_count": null,
      "outputs": []
    },
    {
      "cell_type": "code",
      "source": [
        "study = optuna.create_study(direction=\"minimize\", sampler=optuna.samplers.TPESampler(), pruner=optuna.pruners.HyperbandPruner())\n",
        "study.optimize(objective, n_trials=100)\n",
        "pruned_trials = study.get_trials(deepcopy=False, states=[TrialState.PRUNED])\n",
        "complete_trials = study.get_trials(deepcopy=False, states=[TrialState.COMPLETE])"
      ],
      "metadata": {
        "colab": {
          "base_uri": "https://localhost:8080/"
        },
        "id": "X4b5IJY0Iot-",
        "outputId": "d5c134a8-f065-43da-ac3f-473682c77488"
      },
      "execution_count": null,
      "outputs": [
        {
          "output_type": "stream",
          "name": "stderr",
          "text": [
            "\u001b[32m[I 2022-11-22 07:22:23,921]\u001b[0m A new study created in memory with name: no-name-2e1f286a-1e6e-4757-95ad-d9280e40cbc9\u001b[0m\n",
            "/usr/local/lib/python3.7/dist-packages/ipykernel_launcher.py:6: DeprecationWarning: `np.int` is a deprecated alias for the builtin `int`. To silence this warning, use `int` by itself. Doing this will not modify any behavior and is safe. When replacing `np.int`, you may wish to use e.g. `np.int64` or `np.int32` to specify the precision. If you wish to review your current use, check the release note link for additional information.\n",
            "Deprecated in NumPy 1.20; for more details and guidance: https://numpy.org/devdocs/release/1.20.0-notes.html#deprecations\n",
            "  \n"
          ]
        },
        {
          "output_type": "stream",
          "name": "stdout",
          "text": [
            "Epoch 1/10\n",
            "78/78 [==============================] - 120s 1s/step - loss: 0.0373 - mse: 0.0373 - mae: 0.1247 - mape: 197028.8750 - accuracy: 2.2053e-04\n",
            "Epoch 2/10\n",
            "78/78 [==============================] - 108s 1s/step - loss: 0.0077 - mse: 0.0077 - mae: 0.0730 - mape: 290762.5938 - accuracy: 0.0000e+00\n",
            "Epoch 3/10\n",
            "78/78 [==============================] - 112s 1s/step - loss: 0.0082 - mse: 0.0082 - mae: 0.0748 - mape: 293806.8125 - accuracy: 0.0000e+00\n",
            "Epoch 4/10\n",
            "78/78 [==============================] - 108s 1s/step - loss: 0.0077 - mse: 0.0077 - mae: 0.0726 - mape: 282031.3125 - accuracy: 0.0000e+00\n",
            "Epoch 5/10\n",
            "78/78 [==============================] - 112s 1s/step - loss: 0.0078 - mse: 0.0078 - mae: 0.0731 - mape: 296164.9375 - accuracy: 0.0000e+00\n",
            "Epoch 6/10\n",
            "78/78 [==============================] - 113s 1s/step - loss: 0.0080 - mse: 0.0080 - mae: 0.0742 - mape: 291291.1250 - accuracy: 0.0000e+00\n",
            "Epoch 7/10\n",
            "78/78 [==============================] - 110s 1s/step - loss: 0.0082 - mse: 0.0082 - mae: 0.0743 - mape: 274868.0312 - accuracy: 0.0000e+00\n",
            "Epoch 8/10\n",
            "78/78 [==============================] - 116s 1s/step - loss: 0.0078 - mse: 0.0078 - mae: 0.0731 - mape: 292181.7188 - accuracy: 0.0000e+00\n",
            "Epoch 9/10\n",
            "78/78 [==============================] - 114s 1s/step - loss: 0.0076 - mse: 0.0076 - mae: 0.0731 - mape: 288636.0000 - accuracy: 0.0000e+00\n",
            "Epoch 10/10\n",
            "78/78 [==============================] - 114s 1s/step - loss: 0.0078 - mse: 0.0078 - mae: 0.0731 - mape: 283037.9375 - accuracy: 0.0000e+00\n"
          ]
        },
        {
          "output_type": "stream",
          "name": "stderr",
          "text": [
            "\u001b[32m[I 2022-11-22 07:42:09,652]\u001b[0m Trial 0 finished with value: 6.456847190856934 and parameters: {'lstm_units_L1': 1142, 'lstm_units_L2': 689, 'lstm_units_L3': 505, 'lstm_units_L4': 499, 'lstm_dropout': 0.21486332788647505, 'activation': 'swish'}. Best is trial 0 with value: 6.456847190856934.\u001b[0m\n"
          ]
        },
        {
          "output_type": "stream",
          "name": "stdout",
          "text": [
            "Epoch 1/10\n",
            "78/78 [==============================] - 224s 3s/step - loss: 0.0900 - mse: 0.0900 - mae: 0.1940 - mape: 280753.9688 - accuracy: 1.2029e-04\n",
            "Epoch 2/10\n",
            "78/78 [==============================] - 211s 3s/step - loss: 0.0078 - mse: 0.0078 - mae: 0.0732 - mape: 298685.4375 - accuracy: 0.0000e+00\n",
            "Epoch 3/10\n",
            "78/78 [==============================] - 210s 3s/step - loss: 0.0076 - mse: 0.0076 - mae: 0.0725 - mape: 291368.0000 - accuracy: 0.0000e+00\n",
            "Epoch 4/10\n",
            "78/78 [==============================] - 203s 3s/step - loss: 0.0077 - mse: 0.0077 - mae: 0.0726 - mape: 287107.9062 - accuracy: 0.0000e+00\n",
            "Epoch 5/10\n",
            "78/78 [==============================] - 199s 3s/step - loss: 0.0076 - mse: 0.0076 - mae: 0.0727 - mape: 295181.7188 - accuracy: 0.0000e+00\n",
            "Epoch 6/10\n",
            "78/78 [==============================] - 207s 3s/step - loss: 0.0077 - mse: 0.0077 - mae: 0.0733 - mape: 290673.1562 - accuracy: 0.0000e+00\n",
            "Epoch 7/10\n",
            "78/78 [==============================] - 206s 3s/step - loss: 0.0077 - mse: 0.0077 - mae: 0.0727 - mape: 295626.6250 - accuracy: 0.0000e+00\n",
            "Epoch 8/10\n",
            "78/78 [==============================] - 218s 3s/step - loss: 0.0075 - mse: 0.0075 - mae: 0.0727 - mape: 288079.6250 - accuracy: 0.0000e+00\n",
            "Epoch 9/10\n",
            "78/78 [==============================] - 216s 3s/step - loss: 0.0077 - mse: 0.0077 - mae: 0.0728 - mape: 293198.5312 - accuracy: 0.0000e+00\n",
            "Epoch 10/10\n",
            "78/78 [==============================] - 218s 3s/step - loss: 0.0076 - mse: 0.0076 - mae: 0.0728 - mape: 297443.8750 - accuracy: 0.0000e+00\n"
          ]
        },
        {
          "output_type": "stream",
          "name": "stderr",
          "text": [
            "\u001b[32m[I 2022-11-22 08:18:03,967]\u001b[0m Trial 1 finished with value: 6.428468704223633 and parameters: {'lstm_units_L1': 1444, 'lstm_units_L2': 1351, 'lstm_units_L3': 799, 'lstm_units_L4': 587, 'lstm_dropout': 0.08539516793237367, 'activation': 'swish'}. Best is trial 1 with value: 6.428468704223633.\u001b[0m\n"
          ]
        },
        {
          "output_type": "stream",
          "name": "stdout",
          "text": [
            "Epoch 1/10\n",
            "78/78 [==============================] - 12s 34ms/step - loss: 0.0990 - mse: 0.0990 - mae: 0.2404 - mape: 195652.3438 - accuracy: 2.3055e-04\n",
            "Epoch 2/10\n",
            "78/78 [==============================] - 2s 32ms/step - loss: 0.0141 - mse: 0.0141 - mae: 0.0947 - mape: 283636.5625 - accuracy: 0.0000e+00\n",
            "Epoch 3/10\n",
            "78/78 [==============================] - 3s 33ms/step - loss: 0.0099 - mse: 0.0099 - mae: 0.0807 - mape: 280175.6250 - accuracy: 0.0000e+00\n",
            "Epoch 4/10\n",
            "78/78 [==============================] - 3s 34ms/step - loss: 0.0087 - mse: 0.0087 - mae: 0.0760 - mape: 294293.6875 - accuracy: 0.0000e+00\n",
            "Epoch 5/10\n",
            "78/78 [==============================] - 3s 34ms/step - loss: 0.0082 - mse: 0.0082 - mae: 0.0744 - mape: 289762.8750 - accuracy: 0.0000e+00\n",
            "Epoch 6/10\n",
            "78/78 [==============================] - 3s 35ms/step - loss: 0.0080 - mse: 0.0080 - mae: 0.0740 - mape: 288583.6875 - accuracy: 0.0000e+00\n",
            "Epoch 7/10\n",
            "78/78 [==============================] - 3s 35ms/step - loss: 0.0079 - mse: 0.0079 - mae: 0.0738 - mape: 288255.1875 - accuracy: 0.0000e+00\n",
            "Epoch 8/10\n",
            "78/78 [==============================] - 3s 35ms/step - loss: 0.0078 - mse: 0.0078 - mae: 0.0730 - mape: 292806.8750 - accuracy: 0.0000e+00\n",
            "Epoch 9/10\n",
            "78/78 [==============================] - 3s 35ms/step - loss: 0.0077 - mse: 0.0077 - mae: 0.0732 - mape: 289803.2188 - accuracy: 0.0000e+00\n",
            "Epoch 10/10\n",
            "78/78 [==============================] - 3s 34ms/step - loss: 0.0076 - mse: 0.0076 - mae: 0.0725 - mape: 295849.0312 - accuracy: 0.0000e+00\n"
          ]
        },
        {
          "output_type": "stream",
          "name": "stderr",
          "text": [
            "\u001b[32m[I 2022-11-22 08:18:44,852]\u001b[0m Trial 2 finished with value: 6.491489410400391 and parameters: {'lstm_units_L1': 111, 'lstm_units_L2': 85, 'lstm_units_L3': 45, 'lstm_units_L4': 22, 'lstm_dropout': 0.336855648952489, 'activation': 'elu'}. Best is trial 1 with value: 6.428468704223633.\u001b[0m\n"
          ]
        },
        {
          "output_type": "stream",
          "name": "stdout",
          "text": [
            "Epoch 1/10\n",
            "78/78 [==============================] - 135s 2s/step - loss: 0.0523 - mse: 0.0523 - mae: 0.1513 - mape: 298013.4062 - accuracy: 0.0000e+00\n",
            "Epoch 2/10\n",
            "78/78 [==============================] - 127s 2s/step - loss: 0.0078 - mse: 0.0078 - mae: 0.0731 - mape: 282446.4688 - accuracy: 0.0000e+00\n",
            "Epoch 3/10\n",
            "78/78 [==============================] - 127s 2s/step - loss: 0.0077 - mse: 0.0077 - mae: 0.0729 - mape: 288289.5312 - accuracy: 0.0000e+00\n",
            "Epoch 4/10\n",
            "78/78 [==============================] - 126s 2s/step - loss: 0.0076 - mse: 0.0076 - mae: 0.0728 - mape: 293251.1562 - accuracy: 0.0000e+00\n",
            "Epoch 5/10\n",
            "78/78 [==============================] - 124s 2s/step - loss: 0.0076 - mse: 0.0076 - mae: 0.0728 - mape: 289868.3750 - accuracy: 0.0000e+00\n",
            "Epoch 6/10\n",
            "78/78 [==============================] - 123s 2s/step - loss: 0.0077 - mse: 0.0077 - mae: 0.0728 - mape: 302401.6562 - accuracy: 0.0000e+00\n",
            "Epoch 7/10\n",
            "78/78 [==============================] - 125s 2s/step - loss: 0.0076 - mse: 0.0076 - mae: 0.0727 - mape: 300277.4375 - accuracy: 0.0000e+00\n",
            "Epoch 8/10\n",
            "78/78 [==============================] - 125s 2s/step - loss: 0.0077 - mse: 0.0077 - mae: 0.0725 - mape: 301310.0000 - accuracy: 0.0000e+00\n",
            "Epoch 9/10\n",
            "78/78 [==============================] - 126s 2s/step - loss: 0.0079 - mse: 0.0079 - mae: 0.0739 - mape: 296925.8750 - accuracy: 0.0000e+00\n",
            "Epoch 10/10\n",
            "78/78 [==============================] - 130s 2s/step - loss: 0.0076 - mse: 0.0076 - mae: 0.0728 - mape: 295047.7500 - accuracy: 0.0000e+00\n"
          ]
        },
        {
          "output_type": "stream",
          "name": "stderr",
          "text": [
            "\u001b[32m[I 2022-11-22 08:40:27,898]\u001b[0m Trial 3 finished with value: 6.543444633483887 and parameters: {'lstm_units_L1': 963, 'lstm_units_L2': 947, 'lstm_units_L3': 647, 'lstm_units_L4': 404, 'lstm_dropout': 0.11455332899333065, 'activation': 'relu'}. Best is trial 1 with value: 6.428468704223633.\u001b[0m\n"
          ]
        },
        {
          "output_type": "stream",
          "name": "stdout",
          "text": [
            "Epoch 1/10\n",
            "78/78 [==============================] - 313s 4s/step - loss: 0.1926 - mse: 0.1926 - mae: 0.2010 - mape: 282362.5312 - accuracy: 0.0000e+00\n",
            "Epoch 2/10\n",
            "78/78 [==============================] - 303s 4s/step - loss: 0.0078 - mse: 0.0078 - mae: 0.0733 - mape: 281163.3750 - accuracy: 0.0000e+00\n",
            "Epoch 3/10\n",
            "78/78 [==============================] - 315s 4s/step - loss: 0.0079 - mse: 0.0079 - mae: 0.0737 - mape: 292013.1250 - accuracy: 0.0000e+00\n",
            "Epoch 4/10\n",
            "78/78 [==============================] - 297s 4s/step - loss: 0.0079 - mse: 0.0079 - mae: 0.0737 - mape: 285718.0625 - accuracy: 0.0000e+00\n",
            "Epoch 5/10\n",
            "78/78 [==============================] - 289s 4s/step - loss: 0.0077 - mse: 0.0077 - mae: 0.0732 - mape: 292480.9375 - accuracy: 0.0000e+00\n",
            "Epoch 6/10\n",
            "78/78 [==============================] - 289s 4s/step - loss: 0.0078 - mse: 0.0078 - mae: 0.0729 - mape: 288806.0938 - accuracy: 0.0000e+00\n",
            "Epoch 7/10\n",
            "78/78 [==============================] - 291s 4s/step - loss: 0.0078 - mse: 0.0078 - mae: 0.0732 - mape: 292412.5625 - accuracy: 0.0000e+00\n",
            "Epoch 8/10\n",
            "78/78 [==============================] - 286s 4s/step - loss: 0.0077 - mse: 0.0077 - mae: 0.0734 - mape: 286749.6562 - accuracy: 0.0000e+00\n",
            "Epoch 9/10\n",
            "78/78 [==============================] - 285s 4s/step - loss: 0.0078 - mse: 0.0078 - mae: 0.0733 - mape: 285168.0625 - accuracy: 0.0000e+00\n",
            "Epoch 10/10\n",
            "78/78 [==============================] - 288s 4s/step - loss: 0.0076 - mse: 0.0076 - mae: 0.0725 - mape: 291141.8438 - accuracy: 0.0000e+00\n"
          ]
        },
        {
          "output_type": "stream",
          "name": "stderr",
          "text": [
            "\u001b[32m[I 2022-11-22 09:30:18,414]\u001b[0m Trial 4 finished with value: 6.602338790893555 and parameters: {'lstm_units_L1': 1477, 'lstm_units_L2': 1403, 'lstm_units_L3': 1176, 'lstm_units_L4': 1055, 'lstm_dropout': 0.1379135922705655, 'activation': 'relu'}. Best is trial 1 with value: 6.428468704223633.\u001b[0m\n"
          ]
        },
        {
          "output_type": "stream",
          "name": "stdout",
          "text": [
            "Epoch 1/10\n",
            "78/78 [==============================] - 22s 157ms/step - loss: 0.0584 - mse: 0.0584 - mae: 0.1659 - mape: 164010.2500 - accuracy: 2.5185e-04\n",
            "Epoch 2/10\n",
            "78/78 [==============================] - 12s 154ms/step - loss: 0.0087 - mse: 0.0087 - mae: 0.0767 - mape: 288220.0625 - accuracy: 0.0000e+00\n",
            "Epoch 3/10\n",
            "78/78 [==============================] - 12s 156ms/step - loss: 0.0080 - mse: 0.0080 - mae: 0.0738 - mape: 302863.4062 - accuracy: 0.0000e+00\n",
            "Epoch 4/10\n",
            "78/78 [==============================] - 13s 163ms/step - loss: 0.0078 - mse: 0.0078 - mae: 0.0734 - mape: 290760.8438 - accuracy: 0.0000e+00\n",
            "Epoch 5/10\n",
            "78/78 [==============================] - 14s 172ms/step - loss: 0.0076 - mse: 0.0076 - mae: 0.0729 - mape: 289063.8125 - accuracy: 0.0000e+00\n",
            "Epoch 6/10\n",
            "78/78 [==============================] - 12s 160ms/step - loss: 0.0076 - mse: 0.0076 - mae: 0.0728 - mape: 291241.9375 - accuracy: 0.0000e+00\n",
            "Epoch 7/10\n",
            "78/78 [==============================] - 14s 185ms/step - loss: 0.0076 - mse: 0.0076 - mae: 0.0728 - mape: 295024.6562 - accuracy: 0.0000e+00\n",
            "Epoch 8/10\n",
            "78/78 [==============================] - 12s 158ms/step - loss: 0.0076 - mse: 0.0076 - mae: 0.0729 - mape: 301311.7188 - accuracy: 0.0000e+00\n",
            "Epoch 9/10\n",
            "78/78 [==============================] - 14s 182ms/step - loss: 0.0077 - mse: 0.0077 - mae: 0.0734 - mape: 288318.1562 - accuracy: 0.0000e+00\n",
            "Epoch 10/10\n",
            "78/78 [==============================] - 12s 154ms/step - loss: 0.0076 - mse: 0.0076 - mae: 0.0727 - mape: 295099.2188 - accuracy: 0.0000e+00\n"
          ]
        },
        {
          "output_type": "stream",
          "name": "stderr",
          "text": [
            "\u001b[32m[I 2022-11-22 09:32:55,261]\u001b[0m Trial 5 finished with value: 6.549992561340332 and parameters: {'lstm_units_L1': 287, 'lstm_units_L2': 266, 'lstm_units_L3': 170, 'lstm_units_L4': 85, 'lstm_dropout': 0.12413564614171424, 'activation': 'elu'}. Best is trial 1 with value: 6.428468704223633.\u001b[0m\n"
          ]
        },
        {
          "output_type": "stream",
          "name": "stdout",
          "text": [
            "Epoch 1/10\n",
            "78/78 [==============================] - 58s 616ms/step - loss: 0.0593 - mse: 0.0593 - mae: 0.1619 - mape: 278382.5625 - accuracy: 0.0000e+00\n",
            "Epoch 2/10\n",
            "78/78 [==============================] - 49s 632ms/step - loss: 0.0078 - mse: 0.0078 - mae: 0.0735 - mape: 287460.5312 - accuracy: 0.0000e+00\n",
            "Epoch 3/10\n",
            "78/78 [==============================] - 47s 607ms/step - loss: 0.0076 - mse: 0.0076 - mae: 0.0727 - mape: 295085.4062 - accuracy: 0.0000e+00\n",
            "Epoch 4/10\n",
            "78/78 [==============================] - 48s 615ms/step - loss: 0.0076 - mse: 0.0076 - mae: 0.0728 - mape: 295229.3125 - accuracy: 0.0000e+00\n",
            "Epoch 5/10\n",
            "78/78 [==============================] - 46s 588ms/step - loss: 0.0076 - mse: 0.0076 - mae: 0.0729 - mape: 290938.9062 - accuracy: 0.0000e+00\n",
            "Epoch 6/10\n",
            "78/78 [==============================] - 45s 575ms/step - loss: 0.0076 - mse: 0.0076 - mae: 0.0727 - mape: 287139.9062 - accuracy: 0.0000e+00\n",
            "Epoch 7/10\n",
            "78/78 [==============================] - 45s 572ms/step - loss: 0.0076 - mse: 0.0076 - mae: 0.0733 - mape: 290440.9375 - accuracy: 0.0000e+00\n",
            "Epoch 8/10\n",
            "78/78 [==============================] - 42s 534ms/step - loss: 0.0077 - mse: 0.0077 - mae: 0.0727 - mape: 292536.7188 - accuracy: 0.0000e+00\n",
            "Epoch 9/10\n",
            "78/78 [==============================] - 46s 593ms/step - loss: 0.0076 - mse: 0.0076 - mae: 0.0728 - mape: 290725.3125 - accuracy: 0.0000e+00\n",
            "Epoch 10/10\n",
            "78/78 [==============================] - 46s 587ms/step - loss: 0.0076 - mse: 0.0076 - mae: 0.0731 - mape: 280182.7500 - accuracy: 0.0000e+00\n"
          ]
        },
        {
          "output_type": "stream",
          "name": "stderr",
          "text": [
            "\u001b[32m[I 2022-11-22 09:41:34,862]\u001b[0m Trial 6 finished with value: 6.439904689788818 and parameters: {'lstm_units_L1': 720, 'lstm_units_L2': 468, 'lstm_units_L3': 309, 'lstm_units_L4': 247, 'lstm_dropout': 0.12363873508570894, 'activation': 'elu'}. Best is trial 1 with value: 6.428468704223633.\u001b[0m\n"
          ]
        },
        {
          "output_type": "stream",
          "name": "stdout",
          "text": [
            "Epoch 1/10\n",
            "78/78 [==============================] - 49s 500ms/step - loss: 0.0609 - mse: 0.0609 - mae: 0.1649 - mape: 103437.4141 - accuracy: 4.0096e-04\n",
            "Epoch 2/10\n",
            "78/78 [==============================] - 42s 537ms/step - loss: 0.0080 - mse: 0.0080 - mae: 0.0741 - mape: 290168.9688 - accuracy: 0.0000e+00\n",
            "Epoch 3/10\n",
            "78/78 [==============================] - 41s 521ms/step - loss: 0.0077 - mse: 0.0077 - mae: 0.0730 - mape: 289760.4062 - accuracy: 0.0000e+00\n",
            "Epoch 4/10\n",
            "78/78 [==============================] - 41s 521ms/step - loss: 0.0076 - mse: 0.0076 - mae: 0.0726 - mape: 292545.4375 - accuracy: 0.0000e+00\n",
            "Epoch 5/10\n",
            "78/78 [==============================] - 42s 535ms/step - loss: 0.0076 - mse: 0.0076 - mae: 0.0728 - mape: 290992.9062 - accuracy: 0.0000e+00\n",
            "Epoch 6/10\n",
            "78/78 [==============================] - 41s 529ms/step - loss: 0.0076 - mse: 0.0076 - mae: 0.0725 - mape: 290630.2812 - accuracy: 0.0000e+00\n",
            "Epoch 7/10\n",
            "78/78 [==============================] - 41s 525ms/step - loss: 0.0076 - mse: 0.0076 - mae: 0.0731 - mape: 285078.2812 - accuracy: 0.0000e+00\n",
            "Epoch 8/10\n",
            "78/78 [==============================] - 43s 548ms/step - loss: 0.0077 - mse: 0.0077 - mae: 0.0732 - mape: 297893.0000 - accuracy: 0.0000e+00\n",
            "Epoch 9/10\n",
            "78/78 [==============================] - 43s 549ms/step - loss: 0.0075 - mse: 0.0075 - mae: 0.0722 - mape: 297467.1875 - accuracy: 0.0000e+00\n",
            "Epoch 10/10\n",
            "78/78 [==============================] - 42s 540ms/step - loss: 0.0076 - mse: 0.0076 - mae: 0.0730 - mape: 291203.2500 - accuracy: 0.0000e+00\n"
          ]
        },
        {
          "output_type": "stream",
          "name": "stderr",
          "text": [
            "\u001b[32m[I 2022-11-22 09:48:48,125]\u001b[0m Trial 7 finished with value: 6.607048034667969 and parameters: {'lstm_units_L1': 683, 'lstm_units_L2': 440, 'lstm_units_L3': 300, 'lstm_units_L4': 217, 'lstm_dropout': 0.38415449459192746, 'activation': 'elu'}. Best is trial 1 with value: 6.428468704223633.\u001b[0m\n"
          ]
        },
        {
          "output_type": "stream",
          "name": "stdout",
          "text": [
            "Epoch 1/10\n",
            "78/78 [==============================] - 15s 80ms/step - loss: 0.0617 - mse: 0.0617 - mae: 0.1731 - mape: 294928.4688 - accuracy: 1.0024e-05\n",
            "Epoch 2/10\n",
            "78/78 [==============================] - 6s 81ms/step - loss: 0.0088 - mse: 0.0088 - mae: 0.0772 - mape: 293255.1562 - accuracy: 0.0000e+00\n",
            "Epoch 3/10\n",
            "78/78 [==============================] - 6s 79ms/step - loss: 0.0080 - mse: 0.0080 - mae: 0.0742 - mape: 290891.5000 - accuracy: 0.0000e+00\n",
            "Epoch 4/10\n",
            "78/78 [==============================] - 6s 83ms/step - loss: 0.0079 - mse: 0.0079 - mae: 0.0738 - mape: 290289.2188 - accuracy: 0.0000e+00\n",
            "Epoch 5/10\n",
            "78/78 [==============================] - 6s 81ms/step - loss: 0.0077 - mse: 0.0077 - mae: 0.0729 - mape: 287842.9688 - accuracy: 0.0000e+00\n",
            "Epoch 6/10\n",
            "78/78 [==============================] - 6s 80ms/step - loss: 0.0076 - mse: 0.0076 - mae: 0.0728 - mape: 286313.7188 - accuracy: 0.0000e+00\n",
            "Epoch 7/10\n",
            "78/78 [==============================] - 6s 78ms/step - loss: 0.0077 - mse: 0.0077 - mae: 0.0730 - mape: 286968.9688 - accuracy: 0.0000e+00\n",
            "Epoch 8/10\n",
            "78/78 [==============================] - 9s 111ms/step - loss: 0.0076 - mse: 0.0076 - mae: 0.0728 - mape: 287013.3125 - accuracy: 0.0000e+00\n",
            "Epoch 9/10\n",
            "78/78 [==============================] - 6s 80ms/step - loss: 0.0076 - mse: 0.0076 - mae: 0.0728 - mape: 294337.5000 - accuracy: 0.0000e+00\n",
            "Epoch 10/10\n",
            "78/78 [==============================] - 6s 79ms/step - loss: 0.0076 - mse: 0.0076 - mae: 0.0730 - mape: 292654.6562 - accuracy: 0.0000e+00\n"
          ]
        },
        {
          "output_type": "stream",
          "name": "stderr",
          "text": [
            "\u001b[32m[I 2022-11-22 09:50:22,020]\u001b[0m Trial 8 finished with value: 6.525350093841553 and parameters: {'lstm_units_L1': 221, 'lstm_units_L2': 113, 'lstm_units_L3': 76, 'lstm_units_L4': 65, 'lstm_dropout': 0.22692659402783955, 'activation': 'selu'}. Best is trial 1 with value: 6.428468704223633.\u001b[0m\n"
          ]
        },
        {
          "output_type": "stream",
          "name": "stdout",
          "text": [
            "Epoch 1/10\n",
            "78/78 [==============================] - 82s 944ms/step - loss: 0.0404 - mse: 0.0404 - mae: 0.1313 - mape: 287355.7500 - accuracy: 0.0000e+00\n",
            "Epoch 2/10\n",
            "78/78 [==============================] - 78s 987ms/step - loss: 0.0078 - mse: 0.0078 - mae: 0.0731 - mape: 288621.5000 - accuracy: 0.0000e+00\n",
            "Epoch 3/10\n",
            "78/78 [==============================] - 73s 940ms/step - loss: 0.0077 - mse: 0.0077 - mae: 0.0730 - mape: 293155.7188 - accuracy: 0.0000e+00\n",
            "Epoch 4/10\n",
            "78/78 [==============================] - 72s 918ms/step - loss: 0.0077 - mse: 0.0077 - mae: 0.0731 - mape: 288327.2500 - accuracy: 0.0000e+00\n",
            "Epoch 5/10\n",
            "78/78 [==============================] - 74s 946ms/step - loss: 0.0076 - mse: 0.0076 - mae: 0.0728 - mape: 296716.1562 - accuracy: 0.0000e+00\n",
            "Epoch 6/10\n",
            "78/78 [==============================] - 72s 929ms/step - loss: 0.0076 - mse: 0.0076 - mae: 0.0727 - mape: 288177.2812 - accuracy: 0.0000e+00\n",
            "Epoch 7/10\n",
            "78/78 [==============================] - 71s 906ms/step - loss: 0.0076 - mse: 0.0076 - mae: 0.0726 - mape: 290594.3750 - accuracy: 0.0000e+00\n",
            "Epoch 8/10\n",
            "78/78 [==============================] - 73s 931ms/step - loss: 0.0076 - mse: 0.0076 - mae: 0.0724 - mape: 289268.2188 - accuracy: 0.0000e+00\n",
            "Epoch 9/10\n",
            "78/78 [==============================] - 74s 942ms/step - loss: 0.0076 - mse: 0.0076 - mae: 0.0729 - mape: 296115.2812 - accuracy: 0.0000e+00\n",
            "Epoch 10/10\n",
            "78/78 [==============================] - 72s 922ms/step - loss: 0.0078 - mse: 0.0078 - mae: 0.0735 - mape: 284707.1250 - accuracy: 0.0000e+00\n"
          ]
        },
        {
          "output_type": "stream",
          "name": "stderr",
          "text": [
            "\u001b[32m[I 2022-11-22 10:03:01,733]\u001b[0m Trial 9 finished with value: 6.55948543548584 and parameters: {'lstm_units_L1': 894, 'lstm_units_L2': 555, 'lstm_units_L3': 477, 'lstm_units_L4': 333, 'lstm_dropout': 0.4317550216369257, 'activation': 'elu'}. Best is trial 1 with value: 6.428468704223633.\u001b[0m\n"
          ]
        },
        {
          "output_type": "stream",
          "name": "stdout",
          "text": [
            "Epoch 1/10\n",
            "78/78 [==============================] - 250s 3s/step - loss: 0.0985 - mse: 0.0985 - mae: 0.1960 - mape: 45.6420 - accuracy: 4.0096e-04\n",
            "Epoch 2/10\n",
            "78/78 [==============================] - 237s 3s/step - loss: 0.0076 - mse: 0.0076 - mae: 0.0728 - mape: 289587.4375 - accuracy: 0.0000e+00\n",
            "Epoch 3/10\n",
            "78/78 [==============================] - 236s 3s/step - loss: 0.0077 - mse: 0.0077 - mae: 0.0731 - mape: 285493.8750 - accuracy: 0.0000e+00\n",
            "Epoch 4/10\n",
            "78/78 [==============================] - 235s 3s/step - loss: 0.0077 - mse: 0.0077 - mae: 0.0733 - mape: 288644.8750 - accuracy: 0.0000e+00\n",
            "Epoch 5/10\n",
            "78/78 [==============================] - 239s 3s/step - loss: 0.0076 - mse: 0.0076 - mae: 0.0726 - mape: 290245.6250 - accuracy: 0.0000e+00\n",
            "Epoch 6/10\n",
            "78/78 [==============================] - 244s 3s/step - loss: 0.0079 - mse: 0.0079 - mae: 0.0737 - mape: 298863.0312 - accuracy: 0.0000e+00\n",
            "Epoch 7/10\n",
            "78/78 [==============================] - 240s 3s/step - loss: 0.0076 - mse: 0.0076 - mae: 0.0726 - mape: 287514.0625 - accuracy: 0.0000e+00\n",
            "Epoch 8/10\n",
            "78/78 [==============================] - 235s 3s/step - loss: 0.0076 - mse: 0.0076 - mae: 0.0728 - mape: 289417.3750 - accuracy: 0.0000e+00\n",
            "Epoch 9/10\n",
            "78/78 [==============================] - 236s 3s/step - loss: 0.0078 - mse: 0.0078 - mae: 0.0734 - mape: 289143.7500 - accuracy: 0.0000e+00\n",
            "Epoch 10/10\n",
            "78/78 [==============================] - 247s 3s/step - loss: 0.0076 - mse: 0.0076 - mae: 0.0727 - mape: 278186.9688 - accuracy: 0.0000e+00\n"
          ]
        },
        {
          "output_type": "stream",
          "name": "stderr",
          "text": [
            "\u001b[32m[I 2022-11-22 10:43:27,598]\u001b[0m Trial 10 finished with value: 6.559743881225586 and parameters: {'lstm_units_L1': 1411, 'lstm_units_L2': 1327, 'lstm_units_L3': 837, 'lstm_units_L4': 582, 'lstm_dropout': 0.010502154343608211, 'activation': 'swish'}. Best is trial 1 with value: 6.428468704223633.\u001b[0m\n"
          ]
        },
        {
          "output_type": "stream",
          "name": "stdout",
          "text": [
            "Epoch 1/10\n",
            "78/78 [==============================] - 56s 595ms/step - loss: 0.0693 - mse: 0.0693 - mae: 0.1825 - mape: 100792.4453 - accuracy: 3.9846e-04\n",
            "Epoch 2/10\n",
            "78/78 [==============================] - 49s 633ms/step - loss: 0.0086 - mse: 0.0086 - mae: 0.0764 - mape: 304326.0938 - accuracy: 0.0000e+00\n",
            "Epoch 3/10\n",
            "78/78 [==============================] - 47s 605ms/step - loss: 0.0081 - mse: 0.0081 - mae: 0.0734 - mape: 298791.3750 - accuracy: 0.0000e+00\n",
            "Epoch 4/10\n",
            "78/78 [==============================] - 47s 594ms/step - loss: 0.0078 - mse: 0.0078 - mae: 0.0736 - mape: 296266.3438 - accuracy: 0.0000e+00\n",
            "Epoch 5/10\n",
            "78/78 [==============================] - 48s 616ms/step - loss: 0.0077 - mse: 0.0077 - mae: 0.0730 - mape: 296007.1562 - accuracy: 0.0000e+00\n",
            "Epoch 6/10\n",
            "78/78 [==============================] - 48s 619ms/step - loss: 0.0076 - mse: 0.0076 - mae: 0.0723 - mape: 283162.5625 - accuracy: 0.0000e+00\n",
            "Epoch 7/10\n",
            "78/78 [==============================] - 50s 644ms/step - loss: 0.0075 - mse: 0.0075 - mae: 0.0726 - mape: 290106.3125 - accuracy: 0.0000e+00\n",
            "Epoch 8/10\n",
            "78/78 [==============================] - 46s 586ms/step - loss: 0.0076 - mse: 0.0076 - mae: 0.0727 - mape: 288294.0625 - accuracy: 0.0000e+00\n",
            "Epoch 9/10\n",
            "78/78 [==============================] - 47s 601ms/step - loss: 0.0076 - mse: 0.0076 - mae: 0.0725 - mape: 292455.8438 - accuracy: 0.0000e+00\n",
            "Epoch 10/10\n",
            "78/78 [==============================] - 46s 584ms/step - loss: 0.0076 - mse: 0.0076 - mae: 0.0727 - mape: 291748.6562 - accuracy: 0.0000e+00\n"
          ]
        },
        {
          "output_type": "stream",
          "name": "stderr",
          "text": [
            "\u001b[32m[I 2022-11-22 10:52:06,223]\u001b[0m Trial 11 finished with value: 6.52837610244751 and parameters: {'lstm_units_L1': 591, 'lstm_units_L2': 584, 'lstm_units_L3': 362, 'lstm_units_L4': 242, 'lstm_dropout': 0.0023223898854691782, 'activation': 'swish'}. Best is trial 1 with value: 6.428468704223633.\u001b[0m\n"
          ]
        },
        {
          "output_type": "stream",
          "name": "stdout",
          "text": [
            "Epoch 1/10\n",
            "78/78 [==============================] - 138s 2s/step - loss: 0.1161 - mse: 0.1161 - mae: 0.1713 - mape: 297697.5625 - accuracy: 0.0000e+00\n",
            "Epoch 2/10\n",
            "78/78 [==============================] - 128s 2s/step - loss: 0.0076 - mse: 0.0076 - mae: 0.0725 - mape: 291410.3750 - accuracy: 0.0000e+00\n",
            "Epoch 3/10\n",
            "78/78 [==============================] - 125s 2s/step - loss: 0.0077 - mse: 0.0077 - mae: 0.0730 - mape: 287969.0312 - accuracy: 0.0000e+00\n",
            "Epoch 4/10\n",
            "78/78 [==============================] - 117s 1s/step - loss: 0.0076 - mse: 0.0076 - mae: 0.0727 - mape: 293295.1250 - accuracy: 0.0000e+00\n",
            "Epoch 5/10\n",
            "78/78 [==============================] - 120s 2s/step - loss: 0.0075 - mse: 0.0075 - mae: 0.0724 - mape: 284610.5000 - accuracy: 0.0000e+00\n",
            "Epoch 6/10\n",
            "78/78 [==============================] - 116s 1s/step - loss: 0.0077 - mse: 0.0077 - mae: 0.0730 - mape: 300318.7188 - accuracy: 0.0000e+00\n",
            "Epoch 7/10\n",
            "78/78 [==============================] - 124s 2s/step - loss: 0.0076 - mse: 0.0076 - mae: 0.0729 - mape: 293670.4375 - accuracy: 0.0000e+00\n",
            "Epoch 8/10\n",
            "78/78 [==============================] - 120s 2s/step - loss: 0.0075 - mse: 0.0075 - mae: 0.0725 - mape: 292004.4688 - accuracy: 0.0000e+00\n",
            "Epoch 9/10\n",
            "78/78 [==============================] - 119s 2s/step - loss: 0.0075 - mse: 0.0075 - mae: 0.0725 - mape: 288678.3750 - accuracy: 0.0000e+00\n",
            "Epoch 10/10\n",
            "78/78 [==============================] - 117s 2s/step - loss: 0.0075 - mse: 0.0075 - mae: 0.0726 - mape: 300716.4062 - accuracy: 0.0000e+00\n"
          ]
        },
        {
          "output_type": "stream",
          "name": "stderr",
          "text": [
            "\u001b[32m[I 2022-11-22 11:12:50,949]\u001b[0m Trial 12 finished with value: 6.598426818847656 and parameters: {'lstm_units_L1': 1148, 'lstm_units_L2': 798, 'lstm_units_L3': 697, 'lstm_units_L4': 564, 'lstm_dropout': 0.08198199266032591, 'activation': 'selu'}. Best is trial 1 with value: 6.428468704223633.\u001b[0m\n"
          ]
        },
        {
          "output_type": "stream",
          "name": "stdout",
          "text": [
            "Epoch 1/10\n",
            "78/78 [==============================] - 43s 417ms/step - loss: 0.0794 - mse: 0.0794 - mae: 0.2012 - mape: 280573.5312 - accuracy: 7.8939e-05\n",
            "Epoch 2/10\n",
            "78/78 [==============================] - 33s 423ms/step - loss: 0.0091 - mse: 0.0091 - mae: 0.0782 - mape: 288665.3438 - accuracy: 0.0000e+00\n",
            "Epoch 3/10\n",
            "78/78 [==============================] - 33s 421ms/step - loss: 0.0080 - mse: 0.0080 - mae: 0.0739 - mape: 294290.8125 - accuracy: 0.0000e+00\n",
            "Epoch 4/10\n",
            "78/78 [==============================] - 34s 441ms/step - loss: 0.0078 - mse: 0.0078 - mae: 0.0733 - mape: 296254.6562 - accuracy: 0.0000e+00\n",
            "Epoch 5/10\n",
            "78/78 [==============================] - 32s 415ms/step - loss: 0.0077 - mse: 0.0077 - mae: 0.0729 - mape: 288824.5000 - accuracy: 0.0000e+00\n",
            "Epoch 6/10\n",
            "78/78 [==============================] - 35s 446ms/step - loss: 0.0078 - mse: 0.0078 - mae: 0.0737 - mape: 284720.6250 - accuracy: 0.0000e+00\n",
            "Epoch 7/10\n",
            "78/78 [==============================] - 32s 415ms/step - loss: 0.0077 - mse: 0.0077 - mae: 0.0733 - mape: 298338.2812 - accuracy: 0.0000e+00\n",
            "Epoch 8/10\n",
            "78/78 [==============================] - 35s 446ms/step - loss: 0.0076 - mse: 0.0076 - mae: 0.0729 - mape: 284968.8750 - accuracy: 0.0000e+00\n",
            "Epoch 9/10\n",
            "78/78 [==============================] - 37s 470ms/step - loss: 0.0075 - mse: 0.0075 - mae: 0.0725 - mape: 289240.7812 - accuracy: 0.0000e+00\n",
            "Epoch 10/10\n",
            "78/78 [==============================] - 32s 410ms/step - loss: 0.0077 - mse: 0.0077 - mae: 0.0732 - mape: 279319.5000 - accuracy: 0.0000e+00\n"
          ]
        },
        {
          "output_type": "stream",
          "name": "stderr",
          "text": [
            "\u001b[32m[I 2022-11-22 11:18:43,197]\u001b[0m Trial 13 finished with value: 6.432307720184326 and parameters: {'lstm_units_L1': 478, 'lstm_units_L2': 477, 'lstm_units_L3': 317, 'lstm_units_L4': 214, 'lstm_dropout': 0.28904074916976885, 'activation': 'swish'}. Best is trial 1 with value: 6.428468704223633.\u001b[0m\n"
          ]
        },
        {
          "output_type": "stream",
          "name": "stdout",
          "text": [
            "Epoch 1/10\n",
            "78/78 [==============================] - 43s 422ms/step - loss: 0.0577 - mse: 0.0577 - mae: 0.1632 - mape: 176963.1094 - accuracy: 2.3932e-04\n",
            "Epoch 2/10\n",
            "78/78 [==============================] - 32s 405ms/step - loss: 0.0085 - mse: 0.0085 - mae: 0.0758 - mape: 283891.5312 - accuracy: 0.0000e+00\n",
            "Epoch 3/10\n",
            "78/78 [==============================] - 32s 411ms/step - loss: 0.0079 - mse: 0.0079 - mae: 0.0735 - mape: 290764.8750 - accuracy: 0.0000e+00\n",
            "Epoch 4/10\n",
            "78/78 [==============================] - 32s 410ms/step - loss: 0.0081 - mse: 0.0081 - mae: 0.0746 - mape: 289684.2500 - accuracy: 0.0000e+00\n",
            "Epoch 5/10\n",
            "78/78 [==============================] - 32s 407ms/step - loss: 0.0077 - mse: 0.0077 - mae: 0.0731 - mape: 294785.6875 - accuracy: 0.0000e+00\n",
            "Epoch 6/10\n",
            "78/78 [==============================] - 34s 435ms/step - loss: 0.0077 - mse: 0.0077 - mae: 0.0727 - mape: 281285.6562 - accuracy: 0.0000e+00\n",
            "Epoch 7/10\n",
            "78/78 [==============================] - 31s 398ms/step - loss: 0.0078 - mse: 0.0078 - mae: 0.0732 - mape: 292039.1875 - accuracy: 0.0000e+00\n",
            "Epoch 8/10\n",
            "78/78 [==============================] - 33s 430ms/step - loss: 0.0077 - mse: 0.0077 - mae: 0.0734 - mape: 292722.5625 - accuracy: 0.0000e+00\n",
            "Epoch 9/10\n",
            "78/78 [==============================] - 32s 409ms/step - loss: 0.0077 - mse: 0.0077 - mae: 0.0729 - mape: 290132.0000 - accuracy: 0.0000e+00\n",
            "Epoch 10/10\n",
            "78/78 [==============================] - 33s 429ms/step - loss: 0.0076 - mse: 0.0076 - mae: 0.0729 - mape: 291591.3438 - accuracy: 0.0000e+00\n"
          ]
        },
        {
          "output_type": "stream",
          "name": "stderr",
          "text": [
            "\u001b[32m[I 2022-11-22 11:24:24,396]\u001b[0m Trial 14 finished with value: 6.515547752380371 and parameters: {'lstm_units_L1': 461, 'lstm_units_L2': 448, 'lstm_units_L3': 354, 'lstm_units_L4': 211, 'lstm_dropout': 0.3186245347522847, 'activation': 'swish'}. Best is trial 1 with value: 6.428468704223633.\u001b[0m\n"
          ]
        },
        {
          "output_type": "stream",
          "name": "stdout",
          "text": [
            "Epoch 1/10\n",
            "78/78 [==============================] - 32s 300ms/step - loss: 0.0806 - mse: 0.0806 - mae: 0.2032 - mape: 280705.3125 - accuracy: 0.0000e+00\n",
            "Epoch 2/10\n",
            "78/78 [==============================] - 25s 320ms/step - loss: 0.0095 - mse: 0.0095 - mae: 0.0792 - mape: 284897.5625 - accuracy: 0.0000e+00\n",
            "Epoch 3/10\n",
            "78/78 [==============================] - 25s 327ms/step - loss: 0.0083 - mse: 0.0083 - mae: 0.0749 - mape: 289768.0938 - accuracy: 0.0000e+00\n",
            "Epoch 4/10\n",
            "78/78 [==============================] - 25s 321ms/step - loss: 0.0081 - mse: 0.0081 - mae: 0.0739 - mape: 293804.2500 - accuracy: 0.0000e+00\n",
            "Epoch 5/10\n",
            "78/78 [==============================] - 23s 294ms/step - loss: 0.0078 - mse: 0.0078 - mae: 0.0733 - mape: 290877.6562 - accuracy: 0.0000e+00\n",
            "Epoch 6/10\n",
            "78/78 [==============================] - 23s 290ms/step - loss: 0.0078 - mse: 0.0078 - mae: 0.0732 - mape: 294267.9688 - accuracy: 0.0000e+00\n",
            "Epoch 7/10\n",
            "78/78 [==============================] - 25s 321ms/step - loss: 0.0077 - mse: 0.0077 - mae: 0.0732 - mape: 288037.7500 - accuracy: 0.0000e+00\n",
            "Epoch 8/10\n",
            "78/78 [==============================] - 24s 309ms/step - loss: 0.0078 - mse: 0.0078 - mae: 0.0732 - mape: 287215.5000 - accuracy: 0.0000e+00\n",
            "Epoch 9/10\n",
            "78/78 [==============================] - 27s 347ms/step - loss: 0.0076 - mse: 0.0076 - mae: 0.0729 - mape: 289945.4375 - accuracy: 0.0000e+00\n",
            "Epoch 10/10\n",
            "78/78 [==============================] - 25s 319ms/step - loss: 0.0076 - mse: 0.0076 - mae: 0.0730 - mape: 292527.1562 - accuracy: 0.0000e+00\n"
          ]
        },
        {
          "output_type": "stream",
          "name": "stderr",
          "text": [
            "\u001b[32m[I 2022-11-22 11:28:59,962]\u001b[0m Trial 15 finished with value: 6.568374156951904 and parameters: {'lstm_units_L1': 412, 'lstm_units_L2': 410, 'lstm_units_L3': 262, 'lstm_units_L4': 172, 'lstm_dropout': 0.49946919993224514, 'activation': 'swish'}. Best is trial 1 with value: 6.428468704223633.\u001b[0m\n"
          ]
        },
        {
          "output_type": "stream",
          "name": "stdout",
          "text": [
            "Epoch 1/10\n",
            "78/78 [==============================] - 181s 2s/step - loss: 0.0780 - mse: 0.0780 - mae: 0.1884 - mape: 294703.4688 - accuracy: 1.8545e-04\n",
            "Epoch 2/10\n",
            "78/78 [==============================] - 175s 2s/step - loss: 0.0080 - mse: 0.0080 - mae: 0.0739 - mape: 287640.9688 - accuracy: 0.0000e+00\n",
            "Epoch 3/10\n",
            "78/78 [==============================] - 177s 2s/step - loss: 0.0077 - mse: 0.0077 - mae: 0.0734 - mape: 287860.5000 - accuracy: 0.0000e+00\n",
            "Epoch 4/10\n",
            "78/78 [==============================] - 175s 2s/step - loss: 0.0076 - mse: 0.0076 - mae: 0.0725 - mape: 291880.1875 - accuracy: 0.0000e+00\n",
            "Epoch 5/10\n",
            "78/78 [==============================] - 174s 2s/step - loss: 0.0076 - mse: 0.0076 - mae: 0.0731 - mape: 286187.1562 - accuracy: 0.0000e+00\n",
            "Epoch 6/10\n",
            "78/78 [==============================] - 173s 2s/step - loss: 0.0076 - mse: 0.0076 - mae: 0.0724 - mape: 295215.5312 - accuracy: 0.0000e+00\n",
            "Epoch 7/10\n",
            "78/78 [==============================] - 175s 2s/step - loss: 0.0076 - mse: 0.0076 - mae: 0.0727 - mape: 295859.3438 - accuracy: 0.0000e+00\n",
            "Epoch 8/10\n",
            "78/78 [==============================] - 175s 2s/step - loss: 0.0076 - mse: 0.0076 - mae: 0.0727 - mape: 290700.5625 - accuracy: 0.0000e+00\n",
            "Epoch 9/10\n",
            "78/78 [==============================] - 177s 2s/step - loss: 0.0075 - mse: 0.0075 - mae: 0.0726 - mape: 294848.2500 - accuracy: 0.0000e+00\n",
            "Epoch 10/10\n",
            "78/78 [==============================] - 174s 2s/step - loss: 0.0075 - mse: 0.0075 - mae: 0.0727 - mape: 295978.5000 - accuracy: 0.0000e+00\n"
          ]
        },
        {
          "output_type": "stream",
          "name": "stderr",
          "text": [
            "\u001b[32m[I 2022-11-22 11:58:35,239]\u001b[0m Trial 16 finished with value: 6.586728572845459 and parameters: {'lstm_units_L1': 1261, 'lstm_units_L2': 1048, 'lstm_units_L3': 778, 'lstm_units_L4': 570, 'lstm_dropout': 0.2841474985294653, 'activation': 'swish'}. Best is trial 1 with value: 6.428468704223633.\u001b[0m\n"
          ]
        },
        {
          "output_type": "stream",
          "name": "stdout",
          "text": [
            "Epoch 1/10\n",
            "78/78 [==============================] - 91s 1s/step - loss: 0.1062 - mse: 0.1062 - mae: 0.2313 - mape: 278715.1875 - accuracy: 4.0096e-05\n",
            "Epoch 2/10\n",
            "78/78 [==============================] - 78s 1s/step - loss: 0.0093 - mse: 0.0093 - mae: 0.0788 - mape: 291233.5312 - accuracy: 0.0000e+00\n",
            "Epoch 3/10\n",
            "78/78 [==============================] - 82s 1s/step - loss: 0.0080 - mse: 0.0080 - mae: 0.0740 - mape: 294388.5000 - accuracy: 0.0000e+00\n",
            "Epoch 4/10\n",
            "78/78 [==============================] - 77s 985ms/step - loss: 0.0077 - mse: 0.0077 - mae: 0.0730 - mape: 295678.1250 - accuracy: 0.0000e+00\n",
            "Epoch 5/10\n",
            "78/78 [==============================] - 72s 922ms/step - loss: 0.0077 - mse: 0.0077 - mae: 0.0730 - mape: 291535.5938 - accuracy: 0.0000e+00\n",
            "Epoch 6/10\n",
            "78/78 [==============================] - 76s 970ms/step - loss: 0.0076 - mse: 0.0076 - mae: 0.0729 - mape: 292601.4375 - accuracy: 0.0000e+00\n",
            "Epoch 7/10\n",
            "78/78 [==============================] - 70s 898ms/step - loss: 0.0076 - mse: 0.0076 - mae: 0.0728 - mape: 289636.1250 - accuracy: 0.0000e+00\n",
            "Epoch 8/10\n",
            "78/78 [==============================] - 70s 902ms/step - loss: 0.0076 - mse: 0.0076 - mae: 0.0726 - mape: 286704.4375 - accuracy: 0.0000e+00\n",
            "Epoch 9/10\n",
            "78/78 [==============================] - 71s 909ms/step - loss: 0.0076 - mse: 0.0076 - mae: 0.0727 - mape: 288754.3750 - accuracy: 0.0000e+00\n",
            "Epoch 10/10\n",
            "78/78 [==============================] - 69s 881ms/step - loss: 0.0076 - mse: 0.0076 - mae: 0.0727 - mape: 302292.5625 - accuracy: 0.0000e+00\n"
          ]
        },
        {
          "output_type": "stream",
          "name": "stderr",
          "text": [
            "\u001b[32m[I 2022-11-22 12:12:18,125]\u001b[0m Trial 17 finished with value: 6.544559001922607 and parameters: {'lstm_units_L1': 982, 'lstm_units_L2': 625, 'lstm_units_L3': 399, 'lstm_units_L4': 263, 'lstm_dropout': 0.18877502934061965, 'activation': 'swish'}. Best is trial 1 with value: 6.428468704223633.\u001b[0m\n"
          ]
        },
        {
          "output_type": "stream",
          "name": "stdout",
          "text": [
            "Epoch 1/10\n",
            "78/78 [==============================] - 46s 459ms/step - loss: 0.0521 - mse: 0.0521 - mae: 0.1507 - mape: 298939.1875 - accuracy: 0.0000e+00\n",
            "Epoch 2/10\n",
            "78/78 [==============================] - 39s 495ms/step - loss: 0.0086 - mse: 0.0086 - mae: 0.0759 - mape: 285392.5312 - accuracy: 0.0000e+00\n",
            "Epoch 3/10\n",
            "78/78 [==============================] - 39s 495ms/step - loss: 0.0086 - mse: 0.0086 - mae: 0.0763 - mape: 314258.3125 - accuracy: 0.0000e+00\n",
            "Epoch 4/10\n",
            "78/78 [==============================] - 36s 466ms/step - loss: 0.0080 - mse: 0.0080 - mae: 0.0738 - mape: 289838.1562 - accuracy: 0.0000e+00\n",
            "Epoch 5/10\n",
            "78/78 [==============================] - 40s 513ms/step - loss: 0.0079 - mse: 0.0079 - mae: 0.0735 - mape: 296921.1562 - accuracy: 0.0000e+00\n",
            "Epoch 6/10\n",
            "78/78 [==============================] - 38s 481ms/step - loss: 0.0079 - mse: 0.0079 - mae: 0.0737 - mape: 293540.2188 - accuracy: 0.0000e+00\n",
            "Epoch 7/10\n",
            "78/78 [==============================] - 35s 448ms/step - loss: 0.0078 - mse: 0.0078 - mae: 0.0732 - mape: 279805.5938 - accuracy: 0.0000e+00\n",
            "Epoch 8/10\n",
            "78/78 [==============================] - 38s 488ms/step - loss: 0.0076 - mse: 0.0076 - mae: 0.0731 - mape: 293912.7500 - accuracy: 0.0000e+00\n",
            "Epoch 9/10\n",
            "78/78 [==============================] - 35s 443ms/step - loss: 0.0077 - mse: 0.0077 - mae: 0.0729 - mape: 294744.0312 - accuracy: 0.0000e+00\n",
            "Epoch 10/10\n",
            "78/78 [==============================] - 36s 461ms/step - loss: 0.0079 - mse: 0.0079 - mae: 0.0734 - mape: 287169.9062 - accuracy: 0.0000e+00\n"
          ]
        },
        {
          "output_type": "stream",
          "name": "stderr",
          "text": [
            "\u001b[32m[I 2022-11-22 12:18:45,894]\u001b[0m Trial 18 finished with value: 6.5531463623046875 and parameters: {'lstm_units_L1': 526, 'lstm_units_L2': 507, 'lstm_units_L3': 337, 'lstm_units_L4': 229, 'lstm_dropout': 0.2684444270732077, 'activation': 'swish'}. Best is trial 1 with value: 6.428468704223633.\u001b[0m\n"
          ]
        },
        {
          "output_type": "stream",
          "name": "stdout",
          "text": [
            "Epoch 1/10\n",
            "78/78 [==============================] - 58s 633ms/step - loss: 0.0787 - mse: 0.0787 - mae: 0.1926 - mape: 287983.2812 - accuracy: 0.0000e+00\n",
            "Epoch 2/10\n",
            "78/78 [==============================] - 51s 655ms/step - loss: 0.0084 - mse: 0.0084 - mae: 0.0755 - mape: 295935.6875 - accuracy: 0.0000e+00\n",
            "Epoch 3/10\n",
            "78/78 [==============================] - 60s 773ms/step - loss: 0.0079 - mse: 0.0079 - mae: 0.0738 - mape: 301445.5625 - accuracy: 0.0000e+00\n",
            "Epoch 4/10\n",
            "78/78 [==============================] - 58s 749ms/step - loss: 0.0077 - mse: 0.0077 - mae: 0.0727 - mape: 295470.2812 - accuracy: 0.0000e+00\n",
            "Epoch 5/10\n",
            "78/78 [==============================] - 58s 747ms/step - loss: 0.0077 - mse: 0.0077 - mae: 0.0728 - mape: 286094.1875 - accuracy: 0.0000e+00\n",
            "Epoch 6/10\n",
            "78/78 [==============================] - 58s 740ms/step - loss: 0.0077 - mse: 0.0077 - mae: 0.0731 - mape: 299211.1250 - accuracy: 0.0000e+00\n",
            "Epoch 7/10\n",
            "78/78 [==============================] - 62s 791ms/step - loss: 0.0075 - mse: 0.0075 - mae: 0.0726 - mape: 286210.8438 - accuracy: 0.0000e+00\n",
            "Epoch 8/10\n",
            "78/78 [==============================] - 58s 743ms/step - loss: 0.0076 - mse: 0.0076 - mae: 0.0727 - mape: 293579.1875 - accuracy: 0.0000e+00\n",
            "Epoch 9/10\n",
            "78/78 [==============================] - 57s 730ms/step - loss: 0.0075 - mse: 0.0075 - mae: 0.0725 - mape: 293780.3750 - accuracy: 0.0000e+00\n",
            "Epoch 10/10\n",
            "78/78 [==============================] - 57s 734ms/step - loss: 0.0076 - mse: 0.0076 - mae: 0.0729 - mape: 296096.9375 - accuracy: 0.0000e+00\n"
          ]
        },
        {
          "output_type": "stream",
          "name": "stderr",
          "text": [
            "\u001b[32m[I 2022-11-22 12:28:32,343]\u001b[0m Trial 19 finished with value: 6.463573932647705 and parameters: {'lstm_units_L1': 778, 'lstm_units_L2': 499, 'lstm_units_L3': 402, 'lstm_units_L4': 276, 'lstm_dropout': 0.05894168717740234, 'activation': 'relu'}. Best is trial 1 with value: 6.428468704223633.\u001b[0m\n"
          ]
        },
        {
          "output_type": "stream",
          "name": "stdout",
          "text": [
            "Epoch 1/10\n",
            "78/78 [==============================] - 204s 3s/step - loss: 0.1335 - mse: 0.1335 - mae: 0.1765 - mape: 221742.3125 - accuracy: 1.0275e-04\n",
            "Epoch 2/10\n",
            "78/78 [==============================] - 195s 3s/step - loss: 0.0077 - mse: 0.0077 - mae: 0.0732 - mape: 296146.4688 - accuracy: 0.0000e+00\n",
            "Epoch 3/10\n",
            "78/78 [==============================] - 190s 2s/step - loss: 0.0076 - mse: 0.0076 - mae: 0.0726 - mape: 289070.2188 - accuracy: 0.0000e+00\n",
            "Epoch 4/10\n",
            "78/78 [==============================] - 194s 2s/step - loss: 0.0075 - mse: 0.0075 - mae: 0.0725 - mape: 291570.8750 - accuracy: 0.0000e+00\n",
            "Epoch 5/10\n",
            "78/78 [==============================] - 193s 2s/step - loss: 0.0075 - mse: 0.0075 - mae: 0.0726 - mape: 289395.8750 - accuracy: 0.0000e+00\n",
            "Epoch 6/10\n",
            "38/78 [=============>................] - ETA: 1:38 - loss: 0.0078 - mse: 0.0078 - mae: 0.0728 - mape: 603306.3125 - accuracy: 0.0000e+00"
          ]
        }
      ]
    }
  ]
}